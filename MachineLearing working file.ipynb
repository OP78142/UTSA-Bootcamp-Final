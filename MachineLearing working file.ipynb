{
 "cells": [
  {
   "cell_type": "code",
   "execution_count": 1,
   "id": "252b57ed",
   "metadata": {},
   "outputs": [],
   "source": [
    "%matplotlib inline\n",
    "import pandas as pd\n",
    "import sklearn as skl\n",
    "import tensorflow as tf\n",
    "import numpy as np\n",
    "from pathlib import Path\n",
    "\n",
    "import datetime\n",
    "import time\n",
    "\n",
    "from sklearn.preprocessing import OneHotEncoder\n",
    "from sklearn.model_selection import train_test_split\n",
    "import matplotlib.pyplot as plt\n",
    "from sklearn.linear_model import LogisticRegression\n",
    "from sklearn.preprocessing import StandardScaler\n",
    "from sklearn.ensemble import RandomForestClassifier\n",
    "from sklearn.metrics import confusion_matrix\n",
    "from sklearn import metrics\n",
    "\n",
    "from sklearn.neighbors import KNeighborsClassifier\n",
    "from sklearn.decomposition import PCA\n",
    "from sklearn.manifold import TSNE\n",
    "from sklearn.cluster import KMeans\n",
    "\n",
    "# Run me second"
   ]
  },
  {
   "cell_type": "code",
   "execution_count": 2,
   "id": "ace552dd",
   "metadata": {},
   "outputs": [
    {
     "data": {
      "text/html": [
       "<div>\n",
       "<style scoped>\n",
       "    .dataframe tbody tr th:only-of-type {\n",
       "        vertical-align: middle;\n",
       "    }\n",
       "\n",
       "    .dataframe tbody tr th {\n",
       "        vertical-align: top;\n",
       "    }\n",
       "\n",
       "    .dataframe thead th {\n",
       "        text-align: right;\n",
       "    }\n",
       "</style>\n",
       "<table border=\"1\" class=\"dataframe\">\n",
       "  <thead>\n",
       "    <tr style=\"text-align: right;\">\n",
       "      <th></th>\n",
       "      <th>User</th>\n",
       "      <th>Card</th>\n",
       "      <th>Year</th>\n",
       "      <th>Month</th>\n",
       "      <th>Day</th>\n",
       "      <th>Time</th>\n",
       "      <th>Amount</th>\n",
       "      <th>Merchant City</th>\n",
       "      <th>Merchant State</th>\n",
       "      <th>Zip</th>\n",
       "      <th>...</th>\n",
       "      <th>Swipe</th>\n",
       "      <th>Asia</th>\n",
       "      <th>Africa</th>\n",
       "      <th>United States</th>\n",
       "      <th>Europe</th>\n",
       "      <th>Oceana</th>\n",
       "      <th>North America</th>\n",
       "      <th>South America</th>\n",
       "      <th>Carribean</th>\n",
       "      <th>Middle East</th>\n",
       "    </tr>\n",
       "  </thead>\n",
       "  <tbody>\n",
       "    <tr>\n",
       "      <th>0</th>\n",
       "      <td>0</td>\n",
       "      <td>0</td>\n",
       "      <td>2002</td>\n",
       "      <td>9</td>\n",
       "      <td>1</td>\n",
       "      <td>06:21</td>\n",
       "      <td>134</td>\n",
       "      <td>La Verne</td>\n",
       "      <td>CA</td>\n",
       "      <td>91750.0</td>\n",
       "      <td>...</td>\n",
       "      <td>1</td>\n",
       "      <td>0.0</td>\n",
       "      <td>0.0</td>\n",
       "      <td>1.0</td>\n",
       "      <td>0.0</td>\n",
       "      <td>0.0</td>\n",
       "      <td>0.0</td>\n",
       "      <td>0.0</td>\n",
       "      <td>0.0</td>\n",
       "      <td>0.0</td>\n",
       "    </tr>\n",
       "    <tr>\n",
       "      <th>1</th>\n",
       "      <td>0</td>\n",
       "      <td>0</td>\n",
       "      <td>2002</td>\n",
       "      <td>9</td>\n",
       "      <td>1</td>\n",
       "      <td>06:42</td>\n",
       "      <td>38</td>\n",
       "      <td>Monterey Park</td>\n",
       "      <td>CA</td>\n",
       "      <td>91754.0</td>\n",
       "      <td>...</td>\n",
       "      <td>1</td>\n",
       "      <td>0.0</td>\n",
       "      <td>0.0</td>\n",
       "      <td>1.0</td>\n",
       "      <td>0.0</td>\n",
       "      <td>0.0</td>\n",
       "      <td>0.0</td>\n",
       "      <td>0.0</td>\n",
       "      <td>0.0</td>\n",
       "      <td>0.0</td>\n",
       "    </tr>\n",
       "    <tr>\n",
       "      <th>2</th>\n",
       "      <td>0</td>\n",
       "      <td>0</td>\n",
       "      <td>2002</td>\n",
       "      <td>9</td>\n",
       "      <td>2</td>\n",
       "      <td>06:22</td>\n",
       "      <td>120</td>\n",
       "      <td>Monterey Park</td>\n",
       "      <td>CA</td>\n",
       "      <td>91754.0</td>\n",
       "      <td>...</td>\n",
       "      <td>1</td>\n",
       "      <td>0.0</td>\n",
       "      <td>0.0</td>\n",
       "      <td>1.0</td>\n",
       "      <td>0.0</td>\n",
       "      <td>0.0</td>\n",
       "      <td>0.0</td>\n",
       "      <td>0.0</td>\n",
       "      <td>0.0</td>\n",
       "      <td>0.0</td>\n",
       "    </tr>\n",
       "    <tr>\n",
       "      <th>3</th>\n",
       "      <td>0</td>\n",
       "      <td>0</td>\n",
       "      <td>2002</td>\n",
       "      <td>9</td>\n",
       "      <td>2</td>\n",
       "      <td>17:45</td>\n",
       "      <td>129</td>\n",
       "      <td>Monterey Park</td>\n",
       "      <td>CA</td>\n",
       "      <td>91754.0</td>\n",
       "      <td>...</td>\n",
       "      <td>1</td>\n",
       "      <td>0.0</td>\n",
       "      <td>0.0</td>\n",
       "      <td>1.0</td>\n",
       "      <td>0.0</td>\n",
       "      <td>0.0</td>\n",
       "      <td>0.0</td>\n",
       "      <td>0.0</td>\n",
       "      <td>0.0</td>\n",
       "      <td>0.0</td>\n",
       "    </tr>\n",
       "    <tr>\n",
       "      <th>4</th>\n",
       "      <td>0</td>\n",
       "      <td>0</td>\n",
       "      <td>2002</td>\n",
       "      <td>9</td>\n",
       "      <td>3</td>\n",
       "      <td>06:23</td>\n",
       "      <td>105</td>\n",
       "      <td>La Verne</td>\n",
       "      <td>CA</td>\n",
       "      <td>91750.0</td>\n",
       "      <td>...</td>\n",
       "      <td>1</td>\n",
       "      <td>0.0</td>\n",
       "      <td>0.0</td>\n",
       "      <td>1.0</td>\n",
       "      <td>0.0</td>\n",
       "      <td>0.0</td>\n",
       "      <td>0.0</td>\n",
       "      <td>0.0</td>\n",
       "      <td>0.0</td>\n",
       "      <td>0.0</td>\n",
       "    </tr>\n",
       "  </tbody>\n",
       "</table>\n",
       "<p>5 rows × 25 columns</p>\n",
       "</div>"
      ],
      "text/plain": [
       "   User  Card  Year  Month  Day   Time  Amount  Merchant City Merchant State  \\\n",
       "0     0     0  2002      9    1  06:21     134       La Verne             CA   \n",
       "1     0     0  2002      9    1  06:42      38  Monterey Park             CA   \n",
       "2     0     0  2002      9    2  06:22     120  Monterey Park             CA   \n",
       "3     0     0  2002      9    2  17:45     129  Monterey Park             CA   \n",
       "4     0     0  2002      9    3  06:23     105       La Verne             CA   \n",
       "\n",
       "       Zip  ...  Swipe Asia  Africa  United States  Europe  Oceana  \\\n",
       "0  91750.0  ...      1  0.0     0.0            1.0     0.0     0.0   \n",
       "1  91754.0  ...      1  0.0     0.0            1.0     0.0     0.0   \n",
       "2  91754.0  ...      1  0.0     0.0            1.0     0.0     0.0   \n",
       "3  91754.0  ...      1  0.0     0.0            1.0     0.0     0.0   \n",
       "4  91750.0  ...      1  0.0     0.0            1.0     0.0     0.0   \n",
       "\n",
       "   North America  South America  Carribean  Middle East  \n",
       "0            0.0            0.0        0.0          0.0  \n",
       "1            0.0            0.0        0.0          0.0  \n",
       "2            0.0            0.0        0.0          0.0  \n",
       "3            0.0            0.0        0.0          0.0  \n",
       "4            0.0            0.0        0.0          0.0  \n",
       "\n",
       "[5 rows x 25 columns]"
      ]
     },
     "execution_count": 2,
     "metadata": {},
     "output_type": "execute_result"
    }
   ],
   "source": [
    "cleaned_df = pd.read_csv('./Resources/ealtman2019/cleaned_columns.csv')\n",
    "cleaned_df.head()"
   ]
  },
  {
   "cell_type": "code",
   "execution_count": null,
   "id": "ec9f8c4b",
   "metadata": {},
   "outputs": [],
   "source": []
  },
  {
   "cell_type": "code",
   "execution_count": 3,
   "id": "b46ffa7f",
   "metadata": {},
   "outputs": [],
   "source": [
    "# cleaned_df = cleaned_df.fillna(0)"
   ]
  },
  {
   "cell_type": "code",
   "execution_count": 4,
   "id": "695cde5c",
   "metadata": {},
   "outputs": [
    {
     "data": {
      "text/plain": [
       "['User',\n",
       " 'Card',\n",
       " 'Year',\n",
       " 'Month',\n",
       " 'Day',\n",
       " 'Time',\n",
       " 'Amount',\n",
       " 'Merchant City',\n",
       " 'Merchant State',\n",
       " 'Zip',\n",
       " 'MCC',\n",
       " 'Errors?',\n",
       " 'Is Fraud?',\n",
       " 'Chip',\n",
       " 'Online',\n",
       " 'Swipe',\n",
       " 'Asia',\n",
       " 'Africa',\n",
       " 'United States',\n",
       " 'Europe',\n",
       " 'Oceana',\n",
       " 'North America',\n",
       " 'South America',\n",
       " 'Carribean',\n",
       " 'Middle East']"
      ]
     },
     "execution_count": 4,
     "metadata": {},
     "output_type": "execute_result"
    }
   ],
   "source": [
    "list(cleaned_df.columns)"
   ]
  },
  {
   "cell_type": "code",
   "execution_count": 5,
   "id": "a4a01f55",
   "metadata": {},
   "outputs": [
    {
     "data": {
      "text/plain": [
       "(100000, 25)"
      ]
     },
     "execution_count": 5,
     "metadata": {},
     "output_type": "execute_result"
    }
   ],
   "source": [
    "sample_df = cleaned_df.sample(n=100000, random_state = 78)\n",
    "sample_df.shape"
   ]
  },
  {
   "cell_type": "code",
   "execution_count": 6,
   "id": "f2288c1e",
   "metadata": {},
   "outputs": [],
   "source": [
    "cols=[\"Year\",\"Month\",\"Day\", \"Time\"]\n",
    "\n",
    "sample_df['Date'] = sample_df[cols].apply(lambda x: '-'.join(x.values.astype(str)), axis=\"columns\")\n"
   ]
  },
  {
   "cell_type": "code",
   "execution_count": 7,
   "id": "4218ab48",
   "metadata": {},
   "outputs": [],
   "source": [
    "sample_df['Date']=pd.to_datetime(sample_df['Date'])"
   ]
  },
  {
   "cell_type": "code",
   "execution_count": 8,
   "id": "7be97371",
   "metadata": {},
   "outputs": [],
   "source": [
    "sample_df = sample_df.drop(columns= cols)"
   ]
  },
  {
   "cell_type": "code",
   "execution_count": 9,
   "id": "0c287dcb",
   "metadata": {},
   "outputs": [],
   "source": [
    "sample_df = sample_df.drop(columns= ['Merchant City', 'Merchant State'])"
   ]
  },
  {
   "cell_type": "code",
   "execution_count": 10,
   "id": "892d8293",
   "metadata": {},
   "outputs": [
    {
     "data": {
      "text/plain": [
       "10"
      ]
     },
     "execution_count": 10,
     "metadata": {},
     "output_type": "execute_result"
    }
   ],
   "source": [
    "sample_df['Errors?'].nunique()"
   ]
  },
  {
   "cell_type": "code",
   "execution_count": 11,
   "id": "2c44ca5c",
   "metadata": {},
   "outputs": [
    {
     "data": {
      "text/plain": [
       "['User',\n",
       " 'Card',\n",
       " 'Amount',\n",
       " 'Zip',\n",
       " 'MCC',\n",
       " 'Errors?',\n",
       " 'Is Fraud?',\n",
       " 'Chip',\n",
       " 'Online',\n",
       " 'Swipe',\n",
       " 'Asia',\n",
       " 'Africa',\n",
       " 'United States',\n",
       " 'Europe',\n",
       " 'Oceana',\n",
       " 'North America',\n",
       " 'South America',\n",
       " 'Carribean',\n",
       " 'Middle East',\n",
       " 'Date']"
      ]
     },
     "execution_count": 11,
     "metadata": {},
     "output_type": "execute_result"
    }
   ],
   "source": [
    "list(sample_df.columns)"
   ]
  },
  {
   "cell_type": "code",
   "execution_count": 12,
   "id": "5cab9ff9",
   "metadata": {},
   "outputs": [],
   "source": [
    "# sample_df['Date'].head()"
   ]
  },
  {
   "cell_type": "code",
   "execution_count": 13,
   "id": "3d56eed9",
   "metadata": {},
   "outputs": [],
   "source": [
    "sample_df['Date'] = sample_df['Date'].astype(np.int64) // 10**9"
   ]
  },
  {
   "cell_type": "code",
   "execution_count": 14,
   "id": "4d885865",
   "metadata": {},
   "outputs": [
    {
     "data": {
      "text/html": [
       "<div>\n",
       "<style scoped>\n",
       "    .dataframe tbody tr th:only-of-type {\n",
       "        vertical-align: middle;\n",
       "    }\n",
       "\n",
       "    .dataframe tbody tr th {\n",
       "        vertical-align: top;\n",
       "    }\n",
       "\n",
       "    .dataframe thead th {\n",
       "        text-align: right;\n",
       "    }\n",
       "</style>\n",
       "<table border=\"1\" class=\"dataframe\">\n",
       "  <thead>\n",
       "    <tr style=\"text-align: right;\">\n",
       "      <th></th>\n",
       "      <th>User</th>\n",
       "      <th>Card</th>\n",
       "      <th>Amount</th>\n",
       "      <th>Zip</th>\n",
       "      <th>MCC</th>\n",
       "      <th>Errors?</th>\n",
       "      <th>Is Fraud?</th>\n",
       "      <th>Chip</th>\n",
       "      <th>Online</th>\n",
       "      <th>Swipe</th>\n",
       "      <th>Asia</th>\n",
       "      <th>Africa</th>\n",
       "      <th>United States</th>\n",
       "      <th>Europe</th>\n",
       "      <th>Oceana</th>\n",
       "      <th>North America</th>\n",
       "      <th>South America</th>\n",
       "      <th>Carribean</th>\n",
       "      <th>Middle East</th>\n",
       "      <th>Date</th>\n",
       "    </tr>\n",
       "  </thead>\n",
       "  <tbody>\n",
       "    <tr>\n",
       "      <th>12322172</th>\n",
       "      <td>1135</td>\n",
       "      <td>0</td>\n",
       "      <td>21</td>\n",
       "      <td>0.0</td>\n",
       "      <td>7393</td>\n",
       "      <td>0</td>\n",
       "      <td>0</td>\n",
       "      <td>0</td>\n",
       "      <td>1</td>\n",
       "      <td>0</td>\n",
       "      <td>0.0</td>\n",
       "      <td>0.0</td>\n",
       "      <td>0.0</td>\n",
       "      <td>0.0</td>\n",
       "      <td>0.0</td>\n",
       "      <td>0.0</td>\n",
       "      <td>0.0</td>\n",
       "      <td>0.0</td>\n",
       "      <td>0.0</td>\n",
       "      <td>1569685380</td>\n",
       "    </tr>\n",
       "    <tr>\n",
       "      <th>2039964</th>\n",
       "      <td>187</td>\n",
       "      <td>1</td>\n",
       "      <td>51</td>\n",
       "      <td>94598.0</td>\n",
       "      <td>5921</td>\n",
       "      <td>0</td>\n",
       "      <td>0</td>\n",
       "      <td>0</td>\n",
       "      <td>0</td>\n",
       "      <td>1</td>\n",
       "      <td>0.0</td>\n",
       "      <td>0.0</td>\n",
       "      <td>1.0</td>\n",
       "      <td>0.0</td>\n",
       "      <td>0.0</td>\n",
       "      <td>0.0</td>\n",
       "      <td>0.0</td>\n",
       "      <td>0.0</td>\n",
       "      <td>0.0</td>\n",
       "      <td>1240682460</td>\n",
       "    </tr>\n",
       "    <tr>\n",
       "      <th>5911827</th>\n",
       "      <td>559</td>\n",
       "      <td>2</td>\n",
       "      <td>46</td>\n",
       "      <td>4444.0</td>\n",
       "      <td>5912</td>\n",
       "      <td>0</td>\n",
       "      <td>0</td>\n",
       "      <td>0</td>\n",
       "      <td>0</td>\n",
       "      <td>1</td>\n",
       "      <td>0.0</td>\n",
       "      <td>0.0</td>\n",
       "      <td>1.0</td>\n",
       "      <td>0.0</td>\n",
       "      <td>0.0</td>\n",
       "      <td>0.0</td>\n",
       "      <td>0.0</td>\n",
       "      <td>0.0</td>\n",
       "      <td>0.0</td>\n",
       "      <td>1131818520</td>\n",
       "    </tr>\n",
       "    <tr>\n",
       "      <th>8054852</th>\n",
       "      <td>787</td>\n",
       "      <td>3</td>\n",
       "      <td>38</td>\n",
       "      <td>72601.0</td>\n",
       "      <td>7538</td>\n",
       "      <td>0</td>\n",
       "      <td>0</td>\n",
       "      <td>1</td>\n",
       "      <td>0</td>\n",
       "      <td>0</td>\n",
       "      <td>0.0</td>\n",
       "      <td>0.0</td>\n",
       "      <td>1.0</td>\n",
       "      <td>0.0</td>\n",
       "      <td>0.0</td>\n",
       "      <td>0.0</td>\n",
       "      <td>0.0</td>\n",
       "      <td>0.0</td>\n",
       "      <td>0.0</td>\n",
       "      <td>1420295460</td>\n",
       "    </tr>\n",
       "    <tr>\n",
       "      <th>21536504</th>\n",
       "      <td>1982</td>\n",
       "      <td>4</td>\n",
       "      <td>6</td>\n",
       "      <td>32967.0</td>\n",
       "      <td>5541</td>\n",
       "      <td>0</td>\n",
       "      <td>0</td>\n",
       "      <td>1</td>\n",
       "      <td>0</td>\n",
       "      <td>0</td>\n",
       "      <td>0.0</td>\n",
       "      <td>0.0</td>\n",
       "      <td>1.0</td>\n",
       "      <td>0.0</td>\n",
       "      <td>0.0</td>\n",
       "      <td>0.0</td>\n",
       "      <td>0.0</td>\n",
       "      <td>0.0</td>\n",
       "      <td>0.0</td>\n",
       "      <td>1555882500</td>\n",
       "    </tr>\n",
       "  </tbody>\n",
       "</table>\n",
       "</div>"
      ],
      "text/plain": [
       "          User  Card  Amount      Zip   MCC Errors?  Is Fraud?  Chip  Online  \\\n",
       "12322172  1135     0      21      0.0  7393       0          0     0       1   \n",
       "2039964    187     1      51  94598.0  5921       0          0     0       0   \n",
       "5911827    559     2      46   4444.0  5912       0          0     0       0   \n",
       "8054852    787     3      38  72601.0  7538       0          0     1       0   \n",
       "21536504  1982     4       6  32967.0  5541       0          0     1       0   \n",
       "\n",
       "          Swipe  Asia  Africa  United States  Europe  Oceana  North America  \\\n",
       "12322172      0   0.0     0.0            0.0     0.0     0.0            0.0   \n",
       "2039964       1   0.0     0.0            1.0     0.0     0.0            0.0   \n",
       "5911827       1   0.0     0.0            1.0     0.0     0.0            0.0   \n",
       "8054852       0   0.0     0.0            1.0     0.0     0.0            0.0   \n",
       "21536504      0   0.0     0.0            1.0     0.0     0.0            0.0   \n",
       "\n",
       "          South America  Carribean  Middle East        Date  \n",
       "12322172            0.0        0.0          0.0  1569685380  \n",
       "2039964             0.0        0.0          0.0  1240682460  \n",
       "5911827             0.0        0.0          0.0  1131818520  \n",
       "8054852             0.0        0.0          0.0  1420295460  \n",
       "21536504            0.0        0.0          0.0  1555882500  "
      ]
     },
     "execution_count": 14,
     "metadata": {},
     "output_type": "execute_result"
    }
   ],
   "source": [
    "sample_df.head()"
   ]
  },
  {
   "cell_type": "code",
   "execution_count": 15,
   "id": "a164d8e2",
   "metadata": {},
   "outputs": [],
   "source": [
    "sample_df = pd.get_dummies(sample_df, columns =['Errors?'])"
   ]
  },
  {
   "cell_type": "code",
   "execution_count": 16,
   "id": "11b3719c",
   "metadata": {},
   "outputs": [
    {
     "data": {
      "text/plain": [
       "['User',\n",
       " 'Card',\n",
       " 'Amount',\n",
       " 'Zip',\n",
       " 'MCC',\n",
       " 'Is Fraud?',\n",
       " 'Chip',\n",
       " 'Online',\n",
       " 'Swipe',\n",
       " 'Asia',\n",
       " 'Africa',\n",
       " 'United States',\n",
       " 'Europe',\n",
       " 'Oceana',\n",
       " 'North America',\n",
       " 'South America',\n",
       " 'Carribean',\n",
       " 'Middle East',\n",
       " 'Date',\n",
       " 'Errors?_0',\n",
       " 'Errors?_Bad CVV',\n",
       " 'Errors?_Bad Card Number',\n",
       " 'Errors?_Bad Card Number,Insufficient Balance',\n",
       " 'Errors?_Bad Expiration',\n",
       " 'Errors?_Bad PIN',\n",
       " 'Errors?_Bad PIN,Insufficient Balance',\n",
       " 'Errors?_Bad Zipcode',\n",
       " 'Errors?_Insufficient Balance',\n",
       " 'Errors?_Technical Glitch']"
      ]
     },
     "execution_count": 16,
     "metadata": {},
     "output_type": "execute_result"
    }
   ],
   "source": [
    "list(sample_df.columns)"
   ]
  },
  {
   "cell_type": "code",
   "execution_count": 17,
   "id": "d33da813",
   "metadata": {},
   "outputs": [],
   "source": [
    "sample_df = sample_df.rename(columns={\n",
    "\t\t\t\t\t\t\t\t\t    'Errors?_Bad CVV':\"Bad CVV\",\n",
    "\t\t\t\t\t\t\t\t\t\t 'Errors?_Bad CVV,Insufficient Balance':\"Bad CVV,Insufficient Balance\",\n",
    "\t\t\t\t\t\t\t\t\t\t 'Errors?_Bad CVV,Technical Glitch':\"Bad CVV,Technical Glitch\",\n",
    "\t\t\t\t\t\t\t\t\t\t 'Errors?_Bad Card Number':\"Bad Card Number\",\n",
    "\t\t\t\t\t\t\t\t\t\t 'Errors?_Bad Card Number,Bad CVV':\"Bad Card Number,Bad CVV\",\n",
    "\t\t\t\t\t\t\t\t\t\t 'Errors?_Bad Card Number,Bad Expiration':\"Bad Card Number,Bad Expiration\",\n",
    "\t\t\t\t\t\t\t\t\t\t 'Errors?_Bad Card Number,Insufficient Balance':\"Bad Card Number,Insufficient Balance\",\n",
    "\t\t\t\t\t\t\t\t\t\t 'Errors?_Bad Card Number,Technical Glitch':\"Bad Card Number,Technical Glitch\",\n",
    "\t\t\t\t\t\t\t\t\t\t 'Errors?_Bad Expiration':\"Bad Expiration\",\n",
    "\t\t\t\t\t\t\t\t\t\t 'Errors?_Bad Expiration,Bad CVV':\"Bad Expiration,Bad CVV\",\n",
    "\t\t\t\t\t\t\t\t\t\t 'Errors?_Bad Expiration,Insufficient Balance':\"Bad Expiration,Insufficient Balance\",\n",
    "\t\t\t\t\t\t\t\t\t\t 'Errors?_Bad PIN':\"Bad PIN\",\n",
    "\t\t\t\t\t\t\t\t\t\t 'Errors?_Bad PIN,Insufficient Balance':\"Bad PIN,Insufficient Balance\",\n",
    "\t\t\t\t\t\t\t\t\t\t 'Errors?_Bad PIN,Technical Glitch':\"Bad PIN,Technical Glitch\",\n",
    "\t\t\t\t\t\t\t\t\t\t 'Errors?_Bad Zipcode':\"Bad Zipcode\",\n",
    "\t\t\t\t\t\t\t\t\t\t 'Errors?_Insufficient Balance':\"Insufficient Balance\",\n",
    "\t\t\t\t\t\t\t\t\t\t 'Errors?_Insufficient Balance,Technical Glitch':\"Insufficient Balance,Technical Glitch\",\n",
    "\t\t\t\t\t\t\t\t\t\t 'Errors?_Technical Glitch':\"Technical Glitch\"\n",
    "\t\t\t\t\t\t\t\t\t  })"
   ]
  },
  {
   "cell_type": "code",
   "execution_count": 18,
   "id": "a1bc1b1a",
   "metadata": {},
   "outputs": [
    {
     "data": {
      "text/plain": [
       "['User',\n",
       " 'Card',\n",
       " 'Amount',\n",
       " 'Zip',\n",
       " 'MCC',\n",
       " 'Is Fraud?',\n",
       " 'Chip',\n",
       " 'Online',\n",
       " 'Swipe',\n",
       " 'Asia',\n",
       " 'Africa',\n",
       " 'United States',\n",
       " 'Europe',\n",
       " 'Oceana',\n",
       " 'North America',\n",
       " 'South America',\n",
       " 'Carribean',\n",
       " 'Middle East',\n",
       " 'Date',\n",
       " 'Errors?_0',\n",
       " 'Bad CVV',\n",
       " 'Bad Card Number',\n",
       " 'Bad Card Number,Insufficient Balance',\n",
       " 'Bad Expiration',\n",
       " 'Bad PIN',\n",
       " 'Bad PIN,Insufficient Balance',\n",
       " 'Bad Zipcode',\n",
       " 'Insufficient Balance',\n",
       " 'Technical Glitch']"
      ]
     },
     "execution_count": 18,
     "metadata": {},
     "output_type": "execute_result"
    }
   ],
   "source": [
    "list(sample_df.columns)"
   ]
  },
  {
   "cell_type": "code",
   "execution_count": 19,
   "id": "1377f2c1",
   "metadata": {},
   "outputs": [],
   "source": [
    "sample_df = sample_df.drop(columns=['Errors?_0'])"
   ]
  },
  {
   "cell_type": "code",
   "execution_count": 20,
   "id": "1a3e3bc6",
   "metadata": {},
   "outputs": [
    {
     "data": {
      "text/plain": [
       "['User',\n",
       " 'Card',\n",
       " 'Amount',\n",
       " 'Zip',\n",
       " 'MCC',\n",
       " 'Is Fraud?',\n",
       " 'Chip',\n",
       " 'Online',\n",
       " 'Swipe',\n",
       " 'Asia',\n",
       " 'Africa',\n",
       " 'United States',\n",
       " 'Europe',\n",
       " 'Oceana',\n",
       " 'North America',\n",
       " 'South America',\n",
       " 'Carribean',\n",
       " 'Middle East',\n",
       " 'Date',\n",
       " 'Bad CVV',\n",
       " 'Bad Card Number',\n",
       " 'Bad Card Number,Insufficient Balance',\n",
       " 'Bad Expiration',\n",
       " 'Bad PIN',\n",
       " 'Bad PIN,Insufficient Balance',\n",
       " 'Bad Zipcode',\n",
       " 'Insufficient Balance',\n",
       " 'Technical Glitch']"
      ]
     },
     "execution_count": 20,
     "metadata": {},
     "output_type": "execute_result"
    }
   ],
   "source": [
    "list(sample_df.columns)"
   ]
  },
  {
   "cell_type": "code",
   "execution_count": 21,
   "id": "ea692925",
   "metadata": {},
   "outputs": [
    {
     "data": {
      "text/html": [
       "<div>\n",
       "<style scoped>\n",
       "    .dataframe tbody tr th:only-of-type {\n",
       "        vertical-align: middle;\n",
       "    }\n",
       "\n",
       "    .dataframe tbody tr th {\n",
       "        vertical-align: top;\n",
       "    }\n",
       "\n",
       "    .dataframe thead th {\n",
       "        text-align: right;\n",
       "    }\n",
       "</style>\n",
       "<table border=\"1\" class=\"dataframe\">\n",
       "  <thead>\n",
       "    <tr style=\"text-align: right;\">\n",
       "      <th></th>\n",
       "      <th>User</th>\n",
       "      <th>Card</th>\n",
       "      <th>Amount</th>\n",
       "      <th>Zip</th>\n",
       "      <th>MCC</th>\n",
       "      <th>Is Fraud?</th>\n",
       "      <th>Chip</th>\n",
       "      <th>Online</th>\n",
       "      <th>Swipe</th>\n",
       "      <th>Asia</th>\n",
       "      <th>...</th>\n",
       "      <th>Date</th>\n",
       "      <th>Bad CVV</th>\n",
       "      <th>Bad Card Number</th>\n",
       "      <th>Bad Card Number,Insufficient Balance</th>\n",
       "      <th>Bad Expiration</th>\n",
       "      <th>Bad PIN</th>\n",
       "      <th>Bad PIN,Insufficient Balance</th>\n",
       "      <th>Bad Zipcode</th>\n",
       "      <th>Insufficient Balance</th>\n",
       "      <th>Technical Glitch</th>\n",
       "    </tr>\n",
       "  </thead>\n",
       "  <tbody>\n",
       "    <tr>\n",
       "      <th>12322172</th>\n",
       "      <td>1135</td>\n",
       "      <td>0</td>\n",
       "      <td>21</td>\n",
       "      <td>0.0</td>\n",
       "      <td>7393</td>\n",
       "      <td>0</td>\n",
       "      <td>0</td>\n",
       "      <td>1</td>\n",
       "      <td>0</td>\n",
       "      <td>0.0</td>\n",
       "      <td>...</td>\n",
       "      <td>1569685380</td>\n",
       "      <td>0</td>\n",
       "      <td>0</td>\n",
       "      <td>0</td>\n",
       "      <td>0</td>\n",
       "      <td>0</td>\n",
       "      <td>0</td>\n",
       "      <td>0</td>\n",
       "      <td>0</td>\n",
       "      <td>0</td>\n",
       "    </tr>\n",
       "    <tr>\n",
       "      <th>2039964</th>\n",
       "      <td>187</td>\n",
       "      <td>1</td>\n",
       "      <td>51</td>\n",
       "      <td>94598.0</td>\n",
       "      <td>5921</td>\n",
       "      <td>0</td>\n",
       "      <td>0</td>\n",
       "      <td>0</td>\n",
       "      <td>1</td>\n",
       "      <td>0.0</td>\n",
       "      <td>...</td>\n",
       "      <td>1240682460</td>\n",
       "      <td>0</td>\n",
       "      <td>0</td>\n",
       "      <td>0</td>\n",
       "      <td>0</td>\n",
       "      <td>0</td>\n",
       "      <td>0</td>\n",
       "      <td>0</td>\n",
       "      <td>0</td>\n",
       "      <td>0</td>\n",
       "    </tr>\n",
       "    <tr>\n",
       "      <th>5911827</th>\n",
       "      <td>559</td>\n",
       "      <td>2</td>\n",
       "      <td>46</td>\n",
       "      <td>4444.0</td>\n",
       "      <td>5912</td>\n",
       "      <td>0</td>\n",
       "      <td>0</td>\n",
       "      <td>0</td>\n",
       "      <td>1</td>\n",
       "      <td>0.0</td>\n",
       "      <td>...</td>\n",
       "      <td>1131818520</td>\n",
       "      <td>0</td>\n",
       "      <td>0</td>\n",
       "      <td>0</td>\n",
       "      <td>0</td>\n",
       "      <td>0</td>\n",
       "      <td>0</td>\n",
       "      <td>0</td>\n",
       "      <td>0</td>\n",
       "      <td>0</td>\n",
       "    </tr>\n",
       "    <tr>\n",
       "      <th>8054852</th>\n",
       "      <td>787</td>\n",
       "      <td>3</td>\n",
       "      <td>38</td>\n",
       "      <td>72601.0</td>\n",
       "      <td>7538</td>\n",
       "      <td>0</td>\n",
       "      <td>1</td>\n",
       "      <td>0</td>\n",
       "      <td>0</td>\n",
       "      <td>0.0</td>\n",
       "      <td>...</td>\n",
       "      <td>1420295460</td>\n",
       "      <td>0</td>\n",
       "      <td>0</td>\n",
       "      <td>0</td>\n",
       "      <td>0</td>\n",
       "      <td>0</td>\n",
       "      <td>0</td>\n",
       "      <td>0</td>\n",
       "      <td>0</td>\n",
       "      <td>0</td>\n",
       "    </tr>\n",
       "    <tr>\n",
       "      <th>21536504</th>\n",
       "      <td>1982</td>\n",
       "      <td>4</td>\n",
       "      <td>6</td>\n",
       "      <td>32967.0</td>\n",
       "      <td>5541</td>\n",
       "      <td>0</td>\n",
       "      <td>1</td>\n",
       "      <td>0</td>\n",
       "      <td>0</td>\n",
       "      <td>0.0</td>\n",
       "      <td>...</td>\n",
       "      <td>1555882500</td>\n",
       "      <td>0</td>\n",
       "      <td>0</td>\n",
       "      <td>0</td>\n",
       "      <td>0</td>\n",
       "      <td>0</td>\n",
       "      <td>0</td>\n",
       "      <td>0</td>\n",
       "      <td>0</td>\n",
       "      <td>0</td>\n",
       "    </tr>\n",
       "  </tbody>\n",
       "</table>\n",
       "<p>5 rows × 28 columns</p>\n",
       "</div>"
      ],
      "text/plain": [
       "          User  Card  Amount      Zip   MCC  Is Fraud?  Chip  Online  Swipe  \\\n",
       "12322172  1135     0      21      0.0  7393          0     0       1      0   \n",
       "2039964    187     1      51  94598.0  5921          0     0       0      1   \n",
       "5911827    559     2      46   4444.0  5912          0     0       0      1   \n",
       "8054852    787     3      38  72601.0  7538          0     1       0      0   \n",
       "21536504  1982     4       6  32967.0  5541          0     1       0      0   \n",
       "\n",
       "          Asia  ...        Date  Bad CVV  Bad Card Number  \\\n",
       "12322172   0.0  ...  1569685380        0                0   \n",
       "2039964    0.0  ...  1240682460        0                0   \n",
       "5911827    0.0  ...  1131818520        0                0   \n",
       "8054852    0.0  ...  1420295460        0                0   \n",
       "21536504   0.0  ...  1555882500        0                0   \n",
       "\n",
       "          Bad Card Number,Insufficient Balance  Bad Expiration  Bad PIN  \\\n",
       "12322172                                     0               0        0   \n",
       "2039964                                      0               0        0   \n",
       "5911827                                      0               0        0   \n",
       "8054852                                      0               0        0   \n",
       "21536504                                     0               0        0   \n",
       "\n",
       "          Bad PIN,Insufficient Balance  Bad Zipcode  Insufficient Balance  \\\n",
       "12322172                             0            0                     0   \n",
       "2039964                              0            0                     0   \n",
       "5911827                              0            0                     0   \n",
       "8054852                              0            0                     0   \n",
       "21536504                             0            0                     0   \n",
       "\n",
       "          Technical Glitch  \n",
       "12322172                 0  \n",
       "2039964                  0  \n",
       "5911827                  0  \n",
       "8054852                  0  \n",
       "21536504                 0  \n",
       "\n",
       "[5 rows x 28 columns]"
      ]
     },
     "execution_count": 21,
     "metadata": {},
     "output_type": "execute_result"
    }
   ],
   "source": [
    "sample_df.head()"
   ]
  },
  {
   "cell_type": "code",
   "execution_count": 22,
   "id": "3e3ef78d",
   "metadata": {},
   "outputs": [
    {
     "data": {
      "text/plain": [
       "User                                      int64\n",
       "Card                                      int64\n",
       "Amount                                    int64\n",
       "Zip                                     float64\n",
       "MCC                                       int64\n",
       "Is Fraud?                                 int64\n",
       "Chip                                      int64\n",
       "Online                                    int64\n",
       "Swipe                                     int64\n",
       "Asia                                    float64\n",
       "Africa                                  float64\n",
       "United States                           float64\n",
       "Europe                                  float64\n",
       "Oceana                                  float64\n",
       "North America                           float64\n",
       "South America                           float64\n",
       "Carribean                               float64\n",
       "Middle East                             float64\n",
       "Date                                      int64\n",
       "Bad CVV                                   uint8\n",
       "Bad Card Number                           uint8\n",
       "Bad Card Number,Insufficient Balance      uint8\n",
       "Bad Expiration                            uint8\n",
       "Bad PIN                                   uint8\n",
       "Bad PIN,Insufficient Balance              uint8\n",
       "Bad Zipcode                               uint8\n",
       "Insufficient Balance                      uint8\n",
       "Technical Glitch                          uint8\n",
       "dtype: object"
      ]
     },
     "execution_count": 22,
     "metadata": {},
     "output_type": "execute_result"
    }
   ],
   "source": [
    "sample_df.dtypes"
   ]
  },
  {
   "cell_type": "code",
   "execution_count": 23,
   "id": "9c2fce42",
   "metadata": {},
   "outputs": [],
   "source": [
    "# Split the data into X_train, X_test, y_train, y_test\n",
    "y = sample_df[\"Is Fraud?\"].values\n",
    "X = sample_df.drop(\"Is Fraud?\", axis=1)\n",
    "X_train, X_test, y_train, y_test = train_test_split(X, y, random_state=42)\n",
    "scaler = StandardScaler().fit(X_train)\n",
    "X_train_scaled = scaler.transform(X_train)\n",
    "X_test_scaled = scaler.transform(X_test)"
   ]
  },
  {
   "cell_type": "code",
   "execution_count": 24,
   "id": "a92b3ff6",
   "metadata": {},
   "outputs": [
    {
     "name": "stdout",
     "output_type": "stream",
     "text": [
      "Training Data Score: 0.9993066666666667\n",
      "Testing Data Score: 0.99912\n"
     ]
    }
   ],
   "source": [
    "# Train a Logistic Regression model print the model score\n",
    "classifier = LogisticRegression()\n",
    "classifier.fit(X_train, y_train)\n",
    "print(f\"Training Data Score: {classifier.score(X_train, y_train)}\")\n",
    "print(f\"Testing Data Score: {classifier.score(X_test, y_test)}\")"
   ]
  },
  {
   "cell_type": "code",
   "execution_count": 25,
   "id": "f38a2bb3",
   "metadata": {},
   "outputs": [],
   "source": [
    "tsne = TSNE(learning_rate=50, n_components=3, perplexity=50, verbose=1, n_iter=250)"
   ]
  },
  {
   "cell_type": "code",
   "execution_count": 26,
   "id": "ed080242",
   "metadata": {},
   "outputs": [
    {
     "name": "stdout",
     "output_type": "stream",
     "text": [
      "[t-SNE] Computing 151 nearest neighbors...\n",
      "[t-SNE] Indexed 100000 samples in 0.004s...\n"
     ]
    },
    {
     "name": "stderr",
     "output_type": "stream",
     "text": [
      "C:\\ProgramData\\Anaconda3\\lib\\site-packages\\sklearn\\manifold\\_t_sne.py:780: FutureWarning: The default initialization in TSNE will change from 'random' to 'pca' in 1.2.\n",
      "  warnings.warn(\n"
     ]
    },
    {
     "name": "stdout",
     "output_type": "stream",
     "text": [
      "[t-SNE] Computed neighbors for 100000 samples in 168.514s...\n",
      "[t-SNE] Computed conditional probabilities for sample 1000 / 100000\n",
      "[t-SNE] Computed conditional probabilities for sample 2000 / 100000\n",
      "[t-SNE] Computed conditional probabilities for sample 3000 / 100000\n",
      "[t-SNE] Computed conditional probabilities for sample 4000 / 100000\n",
      "[t-SNE] Computed conditional probabilities for sample 5000 / 100000\n",
      "[t-SNE] Computed conditional probabilities for sample 6000 / 100000\n",
      "[t-SNE] Computed conditional probabilities for sample 7000 / 100000\n",
      "[t-SNE] Computed conditional probabilities for sample 8000 / 100000\n",
      "[t-SNE] Computed conditional probabilities for sample 9000 / 100000\n",
      "[t-SNE] Computed conditional probabilities for sample 10000 / 100000\n",
      "[t-SNE] Computed conditional probabilities for sample 11000 / 100000\n",
      "[t-SNE] Computed conditional probabilities for sample 12000 / 100000\n",
      "[t-SNE] Computed conditional probabilities for sample 13000 / 100000\n",
      "[t-SNE] Computed conditional probabilities for sample 14000 / 100000\n",
      "[t-SNE] Computed conditional probabilities for sample 15000 / 100000\n",
      "[t-SNE] Computed conditional probabilities for sample 16000 / 100000\n",
      "[t-SNE] Computed conditional probabilities for sample 17000 / 100000\n",
      "[t-SNE] Computed conditional probabilities for sample 18000 / 100000\n",
      "[t-SNE] Computed conditional probabilities for sample 19000 / 100000\n",
      "[t-SNE] Computed conditional probabilities for sample 20000 / 100000\n",
      "[t-SNE] Computed conditional probabilities for sample 21000 / 100000\n",
      "[t-SNE] Computed conditional probabilities for sample 22000 / 100000\n",
      "[t-SNE] Computed conditional probabilities for sample 23000 / 100000\n",
      "[t-SNE] Computed conditional probabilities for sample 24000 / 100000\n",
      "[t-SNE] Computed conditional probabilities for sample 25000 / 100000\n",
      "[t-SNE] Computed conditional probabilities for sample 26000 / 100000\n",
      "[t-SNE] Computed conditional probabilities for sample 27000 / 100000\n",
      "[t-SNE] Computed conditional probabilities for sample 28000 / 100000\n",
      "[t-SNE] Computed conditional probabilities for sample 29000 / 100000\n",
      "[t-SNE] Computed conditional probabilities for sample 30000 / 100000\n",
      "[t-SNE] Computed conditional probabilities for sample 31000 / 100000\n",
      "[t-SNE] Computed conditional probabilities for sample 32000 / 100000\n",
      "[t-SNE] Computed conditional probabilities for sample 33000 / 100000\n",
      "[t-SNE] Computed conditional probabilities for sample 34000 / 100000\n",
      "[t-SNE] Computed conditional probabilities for sample 35000 / 100000\n",
      "[t-SNE] Computed conditional probabilities for sample 36000 / 100000\n",
      "[t-SNE] Computed conditional probabilities for sample 37000 / 100000\n",
      "[t-SNE] Computed conditional probabilities for sample 38000 / 100000\n",
      "[t-SNE] Computed conditional probabilities for sample 39000 / 100000\n",
      "[t-SNE] Computed conditional probabilities for sample 40000 / 100000\n",
      "[t-SNE] Computed conditional probabilities for sample 41000 / 100000\n",
      "[t-SNE] Computed conditional probabilities for sample 42000 / 100000\n",
      "[t-SNE] Computed conditional probabilities for sample 43000 / 100000\n",
      "[t-SNE] Computed conditional probabilities for sample 44000 / 100000\n",
      "[t-SNE] Computed conditional probabilities for sample 45000 / 100000\n",
      "[t-SNE] Computed conditional probabilities for sample 46000 / 100000\n",
      "[t-SNE] Computed conditional probabilities for sample 47000 / 100000\n",
      "[t-SNE] Computed conditional probabilities for sample 48000 / 100000\n",
      "[t-SNE] Computed conditional probabilities for sample 49000 / 100000\n",
      "[t-SNE] Computed conditional probabilities for sample 50000 / 100000\n",
      "[t-SNE] Computed conditional probabilities for sample 51000 / 100000\n",
      "[t-SNE] Computed conditional probabilities for sample 52000 / 100000\n",
      "[t-SNE] Computed conditional probabilities for sample 53000 / 100000\n",
      "[t-SNE] Computed conditional probabilities for sample 54000 / 100000\n",
      "[t-SNE] Computed conditional probabilities for sample 55000 / 100000\n",
      "[t-SNE] Computed conditional probabilities for sample 56000 / 100000\n",
      "[t-SNE] Computed conditional probabilities for sample 57000 / 100000\n",
      "[t-SNE] Computed conditional probabilities for sample 58000 / 100000\n",
      "[t-SNE] Computed conditional probabilities for sample 59000 / 100000\n",
      "[t-SNE] Computed conditional probabilities for sample 60000 / 100000\n",
      "[t-SNE] Computed conditional probabilities for sample 61000 / 100000\n",
      "[t-SNE] Computed conditional probabilities for sample 62000 / 100000\n",
      "[t-SNE] Computed conditional probabilities for sample 63000 / 100000\n",
      "[t-SNE] Computed conditional probabilities for sample 64000 / 100000\n",
      "[t-SNE] Computed conditional probabilities for sample 65000 / 100000\n",
      "[t-SNE] Computed conditional probabilities for sample 66000 / 100000\n",
      "[t-SNE] Computed conditional probabilities for sample 67000 / 100000\n",
      "[t-SNE] Computed conditional probabilities for sample 68000 / 100000\n",
      "[t-SNE] Computed conditional probabilities for sample 69000 / 100000\n",
      "[t-SNE] Computed conditional probabilities for sample 70000 / 100000\n",
      "[t-SNE] Computed conditional probabilities for sample 71000 / 100000\n",
      "[t-SNE] Computed conditional probabilities for sample 72000 / 100000\n",
      "[t-SNE] Computed conditional probabilities for sample 73000 / 100000\n",
      "[t-SNE] Computed conditional probabilities for sample 74000 / 100000\n",
      "[t-SNE] Computed conditional probabilities for sample 75000 / 100000\n",
      "[t-SNE] Computed conditional probabilities for sample 76000 / 100000\n",
      "[t-SNE] Computed conditional probabilities for sample 77000 / 100000\n",
      "[t-SNE] Computed conditional probabilities for sample 78000 / 100000\n",
      "[t-SNE] Computed conditional probabilities for sample 79000 / 100000\n",
      "[t-SNE] Computed conditional probabilities for sample 80000 / 100000\n",
      "[t-SNE] Computed conditional probabilities for sample 81000 / 100000\n",
      "[t-SNE] Computed conditional probabilities for sample 82000 / 100000\n",
      "[t-SNE] Computed conditional probabilities for sample 83000 / 100000\n",
      "[t-SNE] Computed conditional probabilities for sample 84000 / 100000\n",
      "[t-SNE] Computed conditional probabilities for sample 85000 / 100000\n",
      "[t-SNE] Computed conditional probabilities for sample 86000 / 100000\n",
      "[t-SNE] Computed conditional probabilities for sample 87000 / 100000\n",
      "[t-SNE] Computed conditional probabilities for sample 88000 / 100000\n",
      "[t-SNE] Computed conditional probabilities for sample 89000 / 100000\n",
      "[t-SNE] Computed conditional probabilities for sample 90000 / 100000\n",
      "[t-SNE] Computed conditional probabilities for sample 91000 / 100000\n",
      "[t-SNE] Computed conditional probabilities for sample 92000 / 100000\n",
      "[t-SNE] Computed conditional probabilities for sample 93000 / 100000\n",
      "[t-SNE] Computed conditional probabilities for sample 94000 / 100000\n",
      "[t-SNE] Computed conditional probabilities for sample 95000 / 100000\n",
      "[t-SNE] Computed conditional probabilities for sample 96000 / 100000\n",
      "[t-SNE] Computed conditional probabilities for sample 97000 / 100000\n",
      "[t-SNE] Computed conditional probabilities for sample 98000 / 100000\n",
      "[t-SNE] Computed conditional probabilities for sample 99000 / 100000\n",
      "[t-SNE] Computed conditional probabilities for sample 100000 / 100000\n",
      "[t-SNE] Mean sigma: 89869.868336\n",
      "[t-SNE] KL divergence after 250 iterations with early exaggeration: 103.365631\n",
      "[t-SNE] KL divergence after 251 iterations: 179769313486231570814527423731704356798070567525844996598917476803157260780028538760589558632766878171540458953514382464234321326889464182768467546703537516986049910576551282076245490090389328944075868508455133942304583236903222948165808559332123348274797826204144723168738177180919299881250404026184124858368.000000\n"
     ]
    }
   ],
   "source": [
    "tsne_features = tsne.fit_transform(sample_df)"
   ]
  },
  {
   "cell_type": "code",
   "execution_count": 27,
   "id": "47cdacbc",
   "metadata": {},
   "outputs": [
    {
     "data": {
      "text/plain": [
       "(100000, 3)"
      ]
     },
     "execution_count": 27,
     "metadata": {},
     "output_type": "execute_result"
    }
   ],
   "source": [
    "tsne_features.shape"
   ]
  },
  {
   "cell_type": "code",
   "execution_count": 35,
   "id": "59562d3b",
   "metadata": {},
   "outputs": [
    {
     "data": {
      "text/plain": [
       "<matplotlib.collections.PathCollection at 0x2233920d2e0>"
      ]
     },
     "execution_count": 35,
     "metadata": {},
     "output_type": "execute_result"
    },
    {
     "data": {
      "image/png": "[encoded data removed]",
      "text/plain": [
       "<Figure size 432x288 with 1 Axes>"
      ]
     },
     "metadata": {
      "needs_background": "light"
     },
     "output_type": "display_data"
    }
   ],
   "source": [
    "labels = sample_df['Is Fraud?']\n",
    "plt.scatter(tsne_features[:,0],tsne_features[:,1],c=labels)"
   ]
  },
  {
   "cell_type": "code",
   "execution_count": 29,
   "id": "c5e96b0e",
   "metadata": {},
   "outputs": [
    {
     "data": {
      "text/html": [
       "<div>\n",
       "<style scoped>\n",
       "    .dataframe tbody tr th:only-of-type {\n",
       "        vertical-align: middle;\n",
       "    }\n",
       "\n",
       "    .dataframe tbody tr th {\n",
       "        vertical-align: top;\n",
       "    }\n",
       "\n",
       "    .dataframe thead th {\n",
       "        text-align: right;\n",
       "    }\n",
       "</style>\n",
       "<table border=\"1\" class=\"dataframe\">\n",
       "  <thead>\n",
       "    <tr style=\"text-align: right;\">\n",
       "      <th></th>\n",
       "      <th>k</th>\n",
       "      <th>inertia</th>\n",
       "    </tr>\n",
       "  </thead>\n",
       "  <tbody>\n",
       "    <tr>\n",
       "      <th>0</th>\n",
       "      <td>1</td>\n",
       "      <td>2.583814e+21</td>\n",
       "    </tr>\n",
       "    <tr>\n",
       "      <th>1</th>\n",
       "      <td>2</td>\n",
       "      <td>7.939869e+20</td>\n",
       "    </tr>\n",
       "    <tr>\n",
       "      <th>2</th>\n",
       "      <td>3</td>\n",
       "      <td>3.891996e+20</td>\n",
       "    </tr>\n",
       "    <tr>\n",
       "      <th>3</th>\n",
       "      <td>4</td>\n",
       "      <td>2.302218e+20</td>\n",
       "    </tr>\n",
       "    <tr>\n",
       "      <th>4</th>\n",
       "      <td>5</td>\n",
       "      <td>1.511394e+20</td>\n",
       "    </tr>\n",
       "  </tbody>\n",
       "</table>\n",
       "</div>"
      ],
      "text/plain": [
       "   k       inertia\n",
       "0  1  2.583814e+21\n",
       "1  2  7.939869e+20\n",
       "2  3  3.891996e+20\n",
       "3  4  2.302218e+20\n",
       "4  5  1.511394e+20"
      ]
     },
     "execution_count": 29,
     "metadata": {},
     "output_type": "execute_result"
    }
   ],
   "source": [
    "# Create an elbow plot to identify the best number of clusters.\n",
    "inertia = []\n",
    "k = list(range(1, 11))\n",
    "\n",
    "# Calculate the inertia\n",
    "for i in k:\n",
    "    km = KMeans(n_clusters=i, random_state=0)\n",
    "    km.fit(sample_df)\n",
    "    inertia.append(km.inertia_)\n",
    "\n",
    "    \n",
    "# 3.2 If possible, determine where the elbow of the plot is, and at which value of k it appears.\n",
    "# Create the Elbow Curve using hvPlot\n",
    "elbow_data = {\"k\": k, \"inertia\": inertia}\n",
    "df_elbow = pd.DataFrame(elbow_data)\n",
    "df_elbow.head()"
   ]
  },
  {
   "cell_type": "code",
   "execution_count": 30,
   "id": "782d9726",
   "metadata": {},
   "outputs": [
    {
     "data": {
      "image/png": "[encoded data removed]",
      "text/plain": [
       "<Figure size 432x288 with 1 Axes>"
      ]
     },
     "metadata": {
      "needs_background": "light"
     },
     "output_type": "display_data"
    }
   ],
   "source": [
    "# Plot the elbow curve to find the best candidate(s) for k\n",
    "plt.plot(df_elbow['k'], df_elbow['inertia'])\n",
    "plt.xticks(range(1,11))\n",
    "plt.xlabel('Number of clusters')\n",
    "plt.ylabel('Inertia')\n",
    "plt.title('Fraud status elbow curve')\n",
    "plt.show()"
   ]
  },
  {
   "cell_type": "code",
   "execution_count": 37,
   "id": "dfc2ece8",
   "metadata": {},
   "outputs": [
    {
     "name": "stdout",
     "output_type": "stream",
     "text": [
      "Training Score: 1.0\n",
      "Testing Score: 0.99916\n"
     ]
    }
   ],
   "source": [
    "clf = RandomForestClassifier(random_state=1, n_estimators=500).fit(X_train_scaled, y_train)\n",
    "print(f'Training Score: {clf.score(X_train_scaled, y_train)}')\n",
    "print(f'Testing Score: {clf.score(X_test_scaled, y_test)}')"
   ]
  },
  {
   "cell_type": "code",
   "execution_count": 46,
   "id": "7e0effc6",
   "metadata": {},
   "outputs": [
    {
     "name": "stdout",
     "output_type": "stream",
     "text": [
      "[1.71150698e-01 5.06712461e-02 1.26411817e-01 9.82789218e-02\n",
      " 2.25939440e-01 5.80990309e-03 5.57804690e-03 6.53165220e-03\n",
      " 3.42034851e-03 9.12454992e-03 5.14416195e-02 4.37726003e-04\n",
      " 3.53176918e-06 3.87453894e-03 2.73104009e-04 1.35386372e-02\n",
      " 3.95507064e-03 2.19509607e-01 3.23576884e-05 2.48909727e-05\n",
      " 2.24519458e-07 8.48987784e-05 4.73037143e-05 1.06613549e-09\n",
      " 4.15520282e-09 3.29244313e-03 5.67417640e-04]\n"
     ]
    },
    {
     "data": {
      "image/png": "[encoded data removed]",
      "text/plain": [
       "<Figure size 432x288 with 1 Axes>"
      ]
     },
     "metadata": {
      "needs_background": "light"
     },
     "output_type": "display_data"
    }
   ],
   "source": [
    "features = clf.feature_importances_\n",
    "print(features)\n",
    "plt.bar(x = range(len(features)), height=features)\n",
    "plt.xlabel('Transaction Types')\n",
    "plt.show()"
   ]
  },
  {
   "cell_type": "code",
   "execution_count": null,
   "id": "5fbeee0c",
   "metadata": {},
   "outputs": [],
   "source": [
    "# The most relevent features are Merchant Type and User, with the mosdt common area of fraud being the Middle East\n",
    "# The only relevant error type is Bad Zipcode, which most primarily relates to online or automated transactions\n"
   ]
  }
 ],
 "metadata": {
  "kernelspec": {
   "display_name": "Python 3 (ipykernel)",
   "language": "python",
   "name": "python3"
  },
  "language_info": {
   "codemirror_mode": {
    "name": "ipython",
    "version": 3
   },
   "file_extension": ".py",
   "mimetype": "text/x-python",
   "name": "python",
   "nbconvert_exporter": "python",
   "pygments_lexer": "ipython3",
   "version": "3.9.12"
  }
 },
 "nbformat": 4,
 "nbformat_minor": 5
}
