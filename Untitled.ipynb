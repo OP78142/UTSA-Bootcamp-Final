{
 "cells": [
  {
   "cell_type": "code",
   "execution_count": 1,
   "id": "7fd075b0",
   "metadata": {},
   "outputs": [],
   "source": [
    "%matplotlib inline\n",
    "import pandas as pd\n",
    "import matplotlib as plt\n",
    "import sklearn as skl\n",
    "import tensorflow as tf\n",
    "from sklearn.preprocessing import OneHotEncoder"
   ]
  },
  {
   "cell_type": "code",
   "execution_count": 2,
   "id": "29a46c16",
   "metadata": {},
   "outputs": [
    {
     "data": {
      "text/html": [
       "<div>\n",
       "<style scoped>\n",
       "    .dataframe tbody tr th:only-of-type {\n",
       "        vertical-align: middle;\n",
       "    }\n",
       "\n",
       "    .dataframe tbody tr th {\n",
       "        vertical-align: top;\n",
       "    }\n",
       "\n",
       "    .dataframe thead th {\n",
       "        text-align: right;\n",
       "    }\n",
       "</style>\n",
       "<table border=\"1\" class=\"dataframe\">\n",
       "  <thead>\n",
       "    <tr style=\"text-align: right;\">\n",
       "      <th></th>\n",
       "      <th>User</th>\n",
       "      <th>Card</th>\n",
       "      <th>Year</th>\n",
       "      <th>Month</th>\n",
       "      <th>Day</th>\n",
       "      <th>Time</th>\n",
       "      <th>Amount</th>\n",
       "      <th>Use Chip</th>\n",
       "      <th>Merchant Name</th>\n",
       "      <th>Merchant City</th>\n",
       "      <th>Merchant State</th>\n",
       "      <th>Zip</th>\n",
       "      <th>MCC</th>\n",
       "      <th>Errors?</th>\n",
       "      <th>Is Fraud?</th>\n",
       "    </tr>\n",
       "  </thead>\n",
       "  <tbody>\n",
       "    <tr>\n",
       "      <th>0</th>\n",
       "      <td>0</td>\n",
       "      <td>0</td>\n",
       "      <td>2002</td>\n",
       "      <td>9</td>\n",
       "      <td>1</td>\n",
       "      <td>06:21</td>\n",
       "      <td>$134.09</td>\n",
       "      <td>Swipe Transaction</td>\n",
       "      <td>3527213246127876953</td>\n",
       "      <td>La Verne</td>\n",
       "      <td>CA</td>\n",
       "      <td>91750.0</td>\n",
       "      <td>5300</td>\n",
       "      <td>NaN</td>\n",
       "      <td>No</td>\n",
       "    </tr>\n",
       "    <tr>\n",
       "      <th>1</th>\n",
       "      <td>0</td>\n",
       "      <td>0</td>\n",
       "      <td>2002</td>\n",
       "      <td>9</td>\n",
       "      <td>1</td>\n",
       "      <td>06:42</td>\n",
       "      <td>$38.48</td>\n",
       "      <td>Swipe Transaction</td>\n",
       "      <td>-727612092139916043</td>\n",
       "      <td>Monterey Park</td>\n",
       "      <td>CA</td>\n",
       "      <td>91754.0</td>\n",
       "      <td>5411</td>\n",
       "      <td>NaN</td>\n",
       "      <td>No</td>\n",
       "    </tr>\n",
       "    <tr>\n",
       "      <th>2</th>\n",
       "      <td>0</td>\n",
       "      <td>0</td>\n",
       "      <td>2002</td>\n",
       "      <td>9</td>\n",
       "      <td>2</td>\n",
       "      <td>06:22</td>\n",
       "      <td>$120.34</td>\n",
       "      <td>Swipe Transaction</td>\n",
       "      <td>-727612092139916043</td>\n",
       "      <td>Monterey Park</td>\n",
       "      <td>CA</td>\n",
       "      <td>91754.0</td>\n",
       "      <td>5411</td>\n",
       "      <td>NaN</td>\n",
       "      <td>No</td>\n",
       "    </tr>\n",
       "    <tr>\n",
       "      <th>3</th>\n",
       "      <td>0</td>\n",
       "      <td>0</td>\n",
       "      <td>2002</td>\n",
       "      <td>9</td>\n",
       "      <td>2</td>\n",
       "      <td>17:45</td>\n",
       "      <td>$128.95</td>\n",
       "      <td>Swipe Transaction</td>\n",
       "      <td>3414527459579106770</td>\n",
       "      <td>Monterey Park</td>\n",
       "      <td>CA</td>\n",
       "      <td>91754.0</td>\n",
       "      <td>5651</td>\n",
       "      <td>NaN</td>\n",
       "      <td>No</td>\n",
       "    </tr>\n",
       "    <tr>\n",
       "      <th>4</th>\n",
       "      <td>0</td>\n",
       "      <td>0</td>\n",
       "      <td>2002</td>\n",
       "      <td>9</td>\n",
       "      <td>3</td>\n",
       "      <td>06:23</td>\n",
       "      <td>$104.71</td>\n",
       "      <td>Swipe Transaction</td>\n",
       "      <td>5817218446178736267</td>\n",
       "      <td>La Verne</td>\n",
       "      <td>CA</td>\n",
       "      <td>91750.0</td>\n",
       "      <td>5912</td>\n",
       "      <td>NaN</td>\n",
       "      <td>No</td>\n",
       "    </tr>\n",
       "  </tbody>\n",
       "</table>\n",
       "</div>"
      ],
      "text/plain": [
       "   User  Card  Year  Month  Day   Time   Amount           Use Chip  \\\n",
       "0     0     0  2002      9    1  06:21  $134.09  Swipe Transaction   \n",
       "1     0     0  2002      9    1  06:42   $38.48  Swipe Transaction   \n",
       "2     0     0  2002      9    2  06:22  $120.34  Swipe Transaction   \n",
       "3     0     0  2002      9    2  17:45  $128.95  Swipe Transaction   \n",
       "4     0     0  2002      9    3  06:23  $104.71  Swipe Transaction   \n",
       "\n",
       "         Merchant Name  Merchant City Merchant State      Zip   MCC Errors?  \\\n",
       "0  3527213246127876953       La Verne             CA  91750.0  5300     NaN   \n",
       "1  -727612092139916043  Monterey Park             CA  91754.0  5411     NaN   \n",
       "2  -727612092139916043  Monterey Park             CA  91754.0  5411     NaN   \n",
       "3  3414527459579106770  Monterey Park             CA  91754.0  5651     NaN   \n",
       "4  5817218446178736267       La Verne             CA  91750.0  5912     NaN   \n",
       "\n",
       "  Is Fraud?  \n",
       "0        No  \n",
       "1        No  \n",
       "2        No  \n",
       "3        No  \n",
       "4        No  "
      ]
     },
     "execution_count": 2,
     "metadata": {},
     "output_type": "execute_result"
    }
   ],
   "source": [
    "ealtman2019_df = pd.read_csv(\"./Resources//ealtman2019/credit_card_transactions-ibm_v2.csv\")\n",
    "ealtman2019_df.head()"
   ]
  },
  {
   "cell_type": "code",
   "execution_count": 3,
   "id": "262d6e17",
   "metadata": {},
   "outputs": [
    {
     "data": {
      "text/html": [
       "<div>\n",
       "<style scoped>\n",
       "    .dataframe tbody tr th:only-of-type {\n",
       "        vertical-align: middle;\n",
       "    }\n",
       "\n",
       "    .dataframe tbody tr th {\n",
       "        vertical-align: top;\n",
       "    }\n",
       "\n",
       "    .dataframe thead th {\n",
       "        text-align: right;\n",
       "    }\n",
       "</style>\n",
       "<table border=\"1\" class=\"dataframe\">\n",
       "  <thead>\n",
       "    <tr style=\"text-align: right;\">\n",
       "      <th></th>\n",
       "      <th>Merchant City</th>\n",
       "      <th>Merchant State</th>\n",
       "      <th>Is Fraud?</th>\n",
       "    </tr>\n",
       "  </thead>\n",
       "  <tbody>\n",
       "    <tr>\n",
       "      <th>0</th>\n",
       "      <td>La Verne</td>\n",
       "      <td>CA</td>\n",
       "      <td>No</td>\n",
       "    </tr>\n",
       "    <tr>\n",
       "      <th>1</th>\n",
       "      <td>Monterey Park</td>\n",
       "      <td>CA</td>\n",
       "      <td>No</td>\n",
       "    </tr>\n",
       "    <tr>\n",
       "      <th>2</th>\n",
       "      <td>Monterey Park</td>\n",
       "      <td>CA</td>\n",
       "      <td>No</td>\n",
       "    </tr>\n",
       "    <tr>\n",
       "      <th>3</th>\n",
       "      <td>Monterey Park</td>\n",
       "      <td>CA</td>\n",
       "      <td>No</td>\n",
       "    </tr>\n",
       "    <tr>\n",
       "      <th>4</th>\n",
       "      <td>La Verne</td>\n",
       "      <td>CA</td>\n",
       "      <td>No</td>\n",
       "    </tr>\n",
       "  </tbody>\n",
       "</table>\n",
       "</div>"
      ],
      "text/plain": [
       "   Merchant City Merchant State Is Fraud?\n",
       "0       La Verne             CA        No\n",
       "1  Monterey Park             CA        No\n",
       "2  Monterey Park             CA        No\n",
       "3  Monterey Park             CA        No\n",
       "4       La Verne             CA        No"
      ]
     },
     "execution_count": 3,
     "metadata": {},
     "output_type": "execute_result"
    }
   ],
   "source": [
    "locations_df = ealtman2019_df[[\"Merchant City\", \"Merchant State\",\"Is Fraud?\"]]\n",
    "locations_df.head()"
   ]
  },
  {
   "cell_type": "code",
   "execution_count": 4,
   "id": "7c6e26ed",
   "metadata": {},
   "outputs": [],
   "source": [
    "locations_df.to_csv('./Resources/ealtman2019/locations.csv', encoding='utf-8', index=False)"
   ]
  },
  {
   "cell_type": "code",
   "execution_count": 5,
   "id": "e0b89b09",
   "metadata": {},
   "outputs": [
    {
     "data": {
      "text/plain": [
       "13429"
      ]
     },
     "execution_count": 5,
     "metadata": {},
     "output_type": "execute_result"
    }
   ],
   "source": [
    "locations_df['Merchant City'].nunique()"
   ]
  },
  {
   "cell_type": "code",
   "execution_count": 6,
   "id": "22a5b078",
   "metadata": {},
   "outputs": [
    {
     "data": {
      "text/plain": [
       "array(['La Verne', 'Monterey Park', 'ONLINE', ..., 'Alburgh', 'Buskirk',\n",
       "       'Mooers'], dtype=object)"
      ]
     },
     "execution_count": 6,
     "metadata": {},
     "output_type": "execute_result"
    }
   ],
   "source": [
    "locations_df['Merchant City'].unique()"
   ]
  },
  {
   "cell_type": "code",
   "execution_count": 7,
   "id": "2b19af27",
   "metadata": {},
   "outputs": [
    {
     "data": {
      "text/plain": [
       "223"
      ]
     },
     "execution_count": 7,
     "metadata": {},
     "output_type": "execute_result"
    }
   ],
   "source": [
    "locations_df['Merchant State'].nunique()"
   ]
  },
  {
   "cell_type": "code",
   "execution_count": 8,
   "id": "cadb49db",
   "metadata": {},
   "outputs": [
    {
     "data": {
      "text/plain": [
       "array(['CA', nan, 'NE', 'IL', 'MO', 'Switzerland', 'IA', 'TX', 'Estonia',\n",
       "       'NJ', 'NV', 'NY', 'Japan', 'AZ', 'UT', 'FL', 'MI', 'Mexico', 'WA',\n",
       "       'OH', 'Dominican Republic', 'NM', 'China', 'SC', 'AK', 'PA', 'VA',\n",
       "       'Portugal', 'HI', 'CT', 'MA', 'MN', 'CO', 'Italy', 'GA',\n",
       "       'Philippines', 'Jamaica', 'AR', 'Canada', 'OR', 'WI', 'NC',\n",
       "       'France', 'WV', 'Norway', 'ME', 'NH', 'VT', 'MD', 'AL', 'KY', 'TN',\n",
       "       'MS', 'New Zealand', 'Netherlands', 'KS', 'ND', 'DC',\n",
       "       'Sierra Leone', 'Haiti', 'MT', 'South Korea', 'Spain', 'OK',\n",
       "       'Algeria', 'Egypt', 'WY', 'ID', 'Indonesia', 'RI',\n",
       "       'United Kingdom', 'Colombia', 'South Africa', 'IN', 'The Bahamas',\n",
       "       'Singapore', 'Pakistan', 'Malaysia', 'Mongolia', 'Israel',\n",
       "       'Hong Kong', 'Guatemala', 'Peru', 'Thailand', 'Sweden', 'Taiwan',\n",
       "       'LA', 'Germany', 'Czech Republic', 'India', 'Poland', 'DE',\n",
       "       'Costa Rica', 'Denmark', 'Bangladesh', 'Macedonia', 'Nigeria',\n",
       "       'SD', 'Tuvalu', 'Ireland', 'Vatican City', 'Lithuania',\n",
       "       'Papua New Guinea', 'Belgium', 'Benin', 'Croatia', 'Saudi Arabia',\n",
       "       'Latvia', 'Austria', 'Slovenia', 'Turkey', 'Russia', 'Greece',\n",
       "       'Slovakia', 'Brazil', 'Hungary', 'Argentina', 'Serbia', 'Ghana',\n",
       "       'Oman', 'United Arab Emirates', 'Finland', 'Barbados', 'Australia',\n",
       "       'Vietnam', 'Micronesia', 'Aruba', 'Liechtenstein', 'Cambodia',\n",
       "       'Kosovo', 'South Sudan', 'Luxembourg', 'Myanmar (Burma)',\n",
       "       'Maldives', 'Samoa', 'Burkina Faso', 'Moldova', 'Eritrea', 'Chile',\n",
       "       'Belarus', 'Venezuela', 'Georgia', 'Tanzania', 'Iceland', 'Iran',\n",
       "       'Honduras', 'Sao Tome and Principe', 'Kenya', 'Kiribati', 'Fiji',\n",
       "       'Kuwait', 'Uzbekistan', 'Romania', 'Panama', 'AA', 'Ethiopia',\n",
       "       'Zimbabwe', 'Ecuador', 'Cyprus', 'Djibouti', 'Cameroon', 'Yemen',\n",
       "       'Uruguay', 'Nicaragua', 'Swaziland', 'Sri Lanka', 'Morocco',\n",
       "       'Malawi', 'Togo', 'Monaco', 'Lebanon', 'Cabo Verde', 'Suriname',\n",
       "       'Mozambique', 'Liberia', 'Ukraine', 'Somalia', 'El Salvador',\n",
       "       'Azerbaijan', 'Bulgaria', 'Jordan', 'Botswana', 'Senegal',\n",
       "       'Bahrain', 'Sudan', 'Niger', 'Albania', 'Mali', 'Tunisia',\n",
       "       'Saint Vincent and the Grenadines', 'Marshall Islands',\n",
       "       'Republic of the Congo', 'Bosnia and Herzegovina', 'Syria',\n",
       "       'Montenegro', 'Iraq', 'Uganda', 'Guinea', 'Gabon',\n",
       "       'Equatorial Guinea', 'Brunei', 'Vanuatu', 'Saint Lucia',\n",
       "       \"Cote d'Ivoire\", 'Comoros', 'Guyana', 'Malta', 'Solomon Islands',\n",
       "       'Belize', 'Nauru', 'Trinidad and Tobago', 'Zambia',\n",
       "       'Democratic Republic of the Congo', 'Dominica', 'Paraguay',\n",
       "       'Tonga', 'Angola', 'Kyrgyzstan', 'Antigua and Barbuda',\n",
       "       'Central African Republic', 'Qatar', 'East Timor (Timor-Leste)',\n",
       "       'Seychelles', 'Andorra'], dtype=object)"
      ]
     },
     "execution_count": 8,
     "metadata": {},
     "output_type": "execute_result"
    }
   ],
   "source": [
    "locations_df['Merchant State'].unique()"
   ]
  },
  {
   "cell_type": "code",
   "execution_count": 9,
   "id": "464fee4b",
   "metadata": {},
   "outputs": [],
   "source": [
    "fraud_locations = locations_df[locations_df['Is Fraud?'].str.contains('Yes')]"
   ]
  },
  {
   "cell_type": "code",
   "execution_count": 10,
   "id": "62fa9d01",
   "metadata": {},
   "outputs": [
    {
     "name": "stderr",
     "output_type": "stream",
     "text": [
      "C:\\Users\\Aaron\\AppData\\Local\\Temp\\ipykernel_11232\\473548575.py:3: SettingWithCopyWarning: \n",
      "A value is trying to be set on a copy of a slice from a DataFrame.\n",
      "Try using .loc[row_indexer,col_indexer] = value instead\n",
      "\n",
      "See the caveats in the documentation: https://pandas.pydata.org/pandas-docs/stable/user_guide/indexing.html#returning-a-view-versus-a-copy\n",
      "  fraud_locations['location'] = fraud_locations[cols].apply(lambda x: ','.join(x.values.astype(str)), axis=\"columns\")\n"
     ]
    }
   ],
   "source": [
    "cols=['Merchant City','Merchant State']\n",
    "\n",
    "fraud_locations['location'] = fraud_locations[cols].apply(lambda x: ','.join(x.values.astype(str)), axis=\"columns\")\n"
   ]
  },
  {
   "cell_type": "code",
   "execution_count": 11,
   "id": "ad15e8a7",
   "metadata": {},
   "outputs": [
    {
     "data": {
      "text/html": [
       "<div>\n",
       "<style scoped>\n",
       "    .dataframe tbody tr th:only-of-type {\n",
       "        vertical-align: middle;\n",
       "    }\n",
       "\n",
       "    .dataframe tbody tr th {\n",
       "        vertical-align: top;\n",
       "    }\n",
       "\n",
       "    .dataframe thead th {\n",
       "        text-align: right;\n",
       "    }\n",
       "</style>\n",
       "<table border=\"1\" class=\"dataframe\">\n",
       "  <thead>\n",
       "    <tr style=\"text-align: right;\">\n",
       "      <th></th>\n",
       "      <th>Merchant City</th>\n",
       "      <th>Merchant State</th>\n",
       "      <th>Is Fraud?</th>\n",
       "      <th>location</th>\n",
       "    </tr>\n",
       "  </thead>\n",
       "  <tbody>\n",
       "    <tr>\n",
       "      <th>4099</th>\n",
       "      <td>ONLINE</td>\n",
       "      <td>NaN</td>\n",
       "      <td>Yes</td>\n",
       "      <td>ONLINE,nan</td>\n",
       "    </tr>\n",
       "    <tr>\n",
       "      <th>4100</th>\n",
       "      <td>ONLINE</td>\n",
       "      <td>NaN</td>\n",
       "      <td>Yes</td>\n",
       "      <td>ONLINE,nan</td>\n",
       "    </tr>\n",
       "    <tr>\n",
       "      <th>4101</th>\n",
       "      <td>ONLINE</td>\n",
       "      <td>NaN</td>\n",
       "      <td>Yes</td>\n",
       "      <td>ONLINE,nan</td>\n",
       "    </tr>\n",
       "    <tr>\n",
       "      <th>4102</th>\n",
       "      <td>ONLINE</td>\n",
       "      <td>NaN</td>\n",
       "      <td>Yes</td>\n",
       "      <td>ONLINE,nan</td>\n",
       "    </tr>\n",
       "    <tr>\n",
       "      <th>4103</th>\n",
       "      <td>ONLINE</td>\n",
       "      <td>NaN</td>\n",
       "      <td>Yes</td>\n",
       "      <td>ONLINE,nan</td>\n",
       "    </tr>\n",
       "  </tbody>\n",
       "</table>\n",
       "</div>"
      ],
      "text/plain": [
       "     Merchant City Merchant State Is Fraud?    location\n",
       "4099        ONLINE            NaN       Yes  ONLINE,nan\n",
       "4100        ONLINE            NaN       Yes  ONLINE,nan\n",
       "4101        ONLINE            NaN       Yes  ONLINE,nan\n",
       "4102        ONLINE            NaN       Yes  ONLINE,nan\n",
       "4103        ONLINE            NaN       Yes  ONLINE,nan"
      ]
     },
     "execution_count": 11,
     "metadata": {},
     "output_type": "execute_result"
    }
   ],
   "source": [
    "fraud_locations.head()"
   ]
  },
  {
   "cell_type": "code",
   "execution_count": 12,
   "id": "04c440da",
   "metadata": {},
   "outputs": [
    {
     "data": {
      "text/plain": [
       "2207"
      ]
     },
     "execution_count": 12,
     "metadata": {},
     "output_type": "execute_result"
    }
   ],
   "source": [
    "fraud_locations['location'].nunique()"
   ]
  },
  {
   "cell_type": "code",
   "execution_count": null,
   "id": "3809f663",
   "metadata": {},
   "outputs": [],
   "source": [
    "# fraud_locations = locations_df[locations_df['Is Fraud?'].str.contains('Yes')]"
   ]
  },
  {
   "cell_type": "code",
   "execution_count": 13,
   "id": "da1b4b8f",
   "metadata": {},
   "outputs": [],
   "source": [
    "fraud_locations = fraud_locations[fraud_locations.location != \"ONLINE,nan\"]"
   ]
  },
  {
   "cell_type": "code",
   "execution_count": 14,
   "id": "b6464b59",
   "metadata": {},
   "outputs": [
    {
     "data": {
      "text/plain": [
       "2206"
      ]
     },
     "execution_count": 14,
     "metadata": {},
     "output_type": "execute_result"
    }
   ],
   "source": [
    "fraud_locations['location'].nunique()"
   ]
  },
  {
   "cell_type": "code",
   "execution_count": 15,
   "id": "7d2b91b7",
   "metadata": {},
   "outputs": [
    {
     "data": {
      "text/plain": [
       "array(['Claremont,CA', 'Pasadena,CA', 'Upland,CA', ..., 'Maysville,KY',\n",
       "       'Erlanger,KY', 'Linden,NJ'], dtype=object)"
      ]
     },
     "execution_count": 15,
     "metadata": {},
     "output_type": "execute_result"
    }
   ],
   "source": [
    "fraud_locations['location'].unique()"
   ]
  },
  {
   "cell_type": "code",
   "execution_count": 16,
   "id": "f9d10759",
   "metadata": {},
   "outputs": [],
   "source": [
    "fraud_locations = fraud_locations['location']"
   ]
  },
  {
   "cell_type": "code",
   "execution_count": 17,
   "id": "2eb36f22",
   "metadata": {},
   "outputs": [
    {
     "data": {
      "text/plain": [
       "9761        Claremont,CA\n",
       "13678        Pasadena,CA\n",
       "13683          Upland,CA\n",
       "13684        La Verne,CA\n",
       "13685          Corona,CA\n",
       "                ...     \n",
       "24372751      Rome,Italy\n",
       "24372753      Rome,Italy\n",
       "24372754      Rome,Italy\n",
       "24372757      Rome,Italy\n",
       "24372760      Rome,Italy\n",
       "Name: location, Length: 11408, dtype: object"
      ]
     },
     "execution_count": 17,
     "metadata": {},
     "output_type": "execute_result"
    }
   ],
   "source": [
    "fraud_locations"
   ]
  },
  {
   "cell_type": "code",
   "execution_count": 20,
   "id": "b8716e5d",
   "metadata": {},
   "outputs": [],
   "source": [
    "fraud_locations = fraud_locations.drop_duplicates()"
   ]
  },
  {
   "cell_type": "code",
   "execution_count": 21,
   "id": "7e2938e9",
   "metadata": {},
   "outputs": [],
   "source": [
    "fraud_locations.to_csv('./Resources/ealtman2019/unique_locations.csv', encoding='utf-8', index=False)"
   ]
  },
  {
   "cell_type": "code",
   "execution_count": null,
   "id": "c981abf2",
   "metadata": {},
   "outputs": [],
   "source": []
  }
 ],
 "metadata": {
  "kernelspec": {
   "display_name": "Python 3 (ipykernel)",
   "language": "python",
   "name": "python3"
  },
  "language_info": {
   "codemirror_mode": {
    "name": "ipython",
    "version": 3
   },
   "file_extension": ".py",
   "mimetype": "text/x-python",
   "name": "python",
   "nbconvert_exporter": "python",
   "pygments_lexer": "ipython3",
   "version": "3.9.12"
  }
 },
 "nbformat": 4,
 "nbformat_minor": 5
}
