{
 "cells": [
  {
   "cell_type": "code",
   "execution_count": 48,
   "id": "8e532908",
   "metadata": {},
   "outputs": [],
   "source": [
    "%matplotlib inline\n",
    "import pandas as pd\n",
    "import matplotlib as plt\n",
    "import sklearn as skl\n",
    "import tensorflow as tf\n",
    "from sklearn.preprocessing import OneHotEncoder"
   ]
  },
  {
   "cell_type": "code",
   "execution_count": 2,
   "id": "0ac5270f",
   "metadata": {},
   "outputs": [],
   "source": [
    "# Load in csv\n",
    "# fraud1_df = pd.read_csv(\"./Resources/bsNET140513_032310.csv\")\n",
    "# fraud1_df.head()"
   ]
  },
  {
   "cell_type": "code",
   "execution_count": 3,
   "id": "f79bd9e3",
   "metadata": {},
   "outputs": [],
   "source": [
    "# fraud2_df = pd.read_csv(\"./Resources/bs140513_032310.csv\")\n",
    "# fraud2_df.head()"
   ]
  },
  {
   "cell_type": "code",
   "execution_count": 4,
   "id": "7e5ce1c6",
   "metadata": {},
   "outputs": [],
   "source": [
    "# cc_df = pd.read_csv(\"./Resources/creditcard.csv\")\n",
    "# cc_df.head()"
   ]
  },
  {
   "cell_type": "code",
   "execution_count": 5,
   "id": "a866f29a",
   "metadata": {},
   "outputs": [
    {
     "data": {
      "text/html": [
       "<div>\n",
       "<style scoped>\n",
       "    .dataframe tbody tr th:only-of-type {\n",
       "        vertical-align: middle;\n",
       "    }\n",
       "\n",
       "    .dataframe tbody tr th {\n",
       "        vertical-align: top;\n",
       "    }\n",
       "\n",
       "    .dataframe thead th {\n",
       "        text-align: right;\n",
       "    }\n",
       "</style>\n",
       "<table border=\"1\" class=\"dataframe\">\n",
       "  <thead>\n",
       "    <tr style=\"text-align: right;\">\n",
       "      <th></th>\n",
       "      <th>User</th>\n",
       "      <th>Card</th>\n",
       "      <th>Year</th>\n",
       "      <th>Month</th>\n",
       "      <th>Day</th>\n",
       "      <th>Time</th>\n",
       "      <th>Amount</th>\n",
       "      <th>Use Chip</th>\n",
       "      <th>Merchant Name</th>\n",
       "      <th>Merchant City</th>\n",
       "      <th>Merchant State</th>\n",
       "      <th>Zip</th>\n",
       "      <th>MCC</th>\n",
       "      <th>Errors?</th>\n",
       "      <th>Is Fraud?</th>\n",
       "    </tr>\n",
       "  </thead>\n",
       "  <tbody>\n",
       "    <tr>\n",
       "      <th>0</th>\n",
       "      <td>0</td>\n",
       "      <td>0</td>\n",
       "      <td>2002</td>\n",
       "      <td>9</td>\n",
       "      <td>1</td>\n",
       "      <td>06:21</td>\n",
       "      <td>$134.09</td>\n",
       "      <td>Swipe Transaction</td>\n",
       "      <td>3527213246127876953</td>\n",
       "      <td>La Verne</td>\n",
       "      <td>CA</td>\n",
       "      <td>91750.0</td>\n",
       "      <td>5300</td>\n",
       "      <td>NaN</td>\n",
       "      <td>No</td>\n",
       "    </tr>\n",
       "    <tr>\n",
       "      <th>1</th>\n",
       "      <td>0</td>\n",
       "      <td>0</td>\n",
       "      <td>2002</td>\n",
       "      <td>9</td>\n",
       "      <td>1</td>\n",
       "      <td>06:42</td>\n",
       "      <td>$38.48</td>\n",
       "      <td>Swipe Transaction</td>\n",
       "      <td>-727612092139916043</td>\n",
       "      <td>Monterey Park</td>\n",
       "      <td>CA</td>\n",
       "      <td>91754.0</td>\n",
       "      <td>5411</td>\n",
       "      <td>NaN</td>\n",
       "      <td>No</td>\n",
       "    </tr>\n",
       "    <tr>\n",
       "      <th>2</th>\n",
       "      <td>0</td>\n",
       "      <td>0</td>\n",
       "      <td>2002</td>\n",
       "      <td>9</td>\n",
       "      <td>2</td>\n",
       "      <td>06:22</td>\n",
       "      <td>$120.34</td>\n",
       "      <td>Swipe Transaction</td>\n",
       "      <td>-727612092139916043</td>\n",
       "      <td>Monterey Park</td>\n",
       "      <td>CA</td>\n",
       "      <td>91754.0</td>\n",
       "      <td>5411</td>\n",
       "      <td>NaN</td>\n",
       "      <td>No</td>\n",
       "    </tr>\n",
       "    <tr>\n",
       "      <th>3</th>\n",
       "      <td>0</td>\n",
       "      <td>0</td>\n",
       "      <td>2002</td>\n",
       "      <td>9</td>\n",
       "      <td>2</td>\n",
       "      <td>17:45</td>\n",
       "      <td>$128.95</td>\n",
       "      <td>Swipe Transaction</td>\n",
       "      <td>3414527459579106770</td>\n",
       "      <td>Monterey Park</td>\n",
       "      <td>CA</td>\n",
       "      <td>91754.0</td>\n",
       "      <td>5651</td>\n",
       "      <td>NaN</td>\n",
       "      <td>No</td>\n",
       "    </tr>\n",
       "    <tr>\n",
       "      <th>4</th>\n",
       "      <td>0</td>\n",
       "      <td>0</td>\n",
       "      <td>2002</td>\n",
       "      <td>9</td>\n",
       "      <td>3</td>\n",
       "      <td>06:23</td>\n",
       "      <td>$104.71</td>\n",
       "      <td>Swipe Transaction</td>\n",
       "      <td>5817218446178736267</td>\n",
       "      <td>La Verne</td>\n",
       "      <td>CA</td>\n",
       "      <td>91750.0</td>\n",
       "      <td>5912</td>\n",
       "      <td>NaN</td>\n",
       "      <td>No</td>\n",
       "    </tr>\n",
       "  </tbody>\n",
       "</table>\n",
       "</div>"
      ],
      "text/plain": [
       "   User  Card  Year  Month  Day   Time   Amount           Use Chip  \\\n",
       "0     0     0  2002      9    1  06:21  $134.09  Swipe Transaction   \n",
       "1     0     0  2002      9    1  06:42   $38.48  Swipe Transaction   \n",
       "2     0     0  2002      9    2  06:22  $120.34  Swipe Transaction   \n",
       "3     0     0  2002      9    2  17:45  $128.95  Swipe Transaction   \n",
       "4     0     0  2002      9    3  06:23  $104.71  Swipe Transaction   \n",
       "\n",
       "         Merchant Name  Merchant City Merchant State      Zip   MCC Errors?  \\\n",
       "0  3527213246127876953       La Verne             CA  91750.0  5300     NaN   \n",
       "1  -727612092139916043  Monterey Park             CA  91754.0  5411     NaN   \n",
       "2  -727612092139916043  Monterey Park             CA  91754.0  5411     NaN   \n",
       "3  3414527459579106770  Monterey Park             CA  91754.0  5651     NaN   \n",
       "4  5817218446178736267       La Verne             CA  91750.0  5912     NaN   \n",
       "\n",
       "  Is Fraud?  \n",
       "0        No  \n",
       "1        No  \n",
       "2        No  \n",
       "3        No  \n",
       "4        No  "
      ]
     },
     "execution_count": 5,
     "metadata": {},
     "output_type": "execute_result"
    }
   ],
   "source": [
    "ealtman2019_df = pd.read_csv(\"./Resources//ealtman2019/credit_card_transactions-ibm_v2.csv\")\n",
    "ealtman2019_df.head()"
   ]
  },
  {
   "cell_type": "code",
   "execution_count": 6,
   "id": "9eb4027d",
   "metadata": {},
   "outputs": [
    {
     "data": {
      "text/plain": [
       "(24386900, 15)"
      ]
     },
     "execution_count": 6,
     "metadata": {},
     "output_type": "execute_result"
    }
   ],
   "source": [
    "ealtman2019_df.shape"
   ]
  },
  {
   "cell_type": "code",
   "execution_count": 77,
   "id": "c21469b1",
   "metadata": {},
   "outputs": [
    {
     "data": {
      "text/plain": [
       "223"
      ]
     },
     "execution_count": 77,
     "metadata": {},
     "output_type": "execute_result"
    }
   ],
   "source": [
    "ealtman2019_df[\"Merchant State\"].nunique()"
   ]
  },
  {
   "cell_type": "code",
   "execution_count": 78,
   "id": "384e60f0",
   "metadata": {},
   "outputs": [
    {
     "data": {
      "text/plain": [
       "array(['CA', nan, 'NE', 'IL', 'MO', 'Switzerland', 'IA', 'TX', 'Estonia',\n",
       "       'NJ', 'NV', 'NY', 'Japan', 'AZ', 'UT', 'FL', 'MI', 'Mexico', 'WA',\n",
       "       'OH', 'Dominican Republic', 'NM', 'China', 'SC', 'AK', 'PA', 'VA',\n",
       "       'Portugal', 'HI', 'CT', 'MA', 'MN', 'CO', 'Italy', 'GA',\n",
       "       'Philippines', 'Jamaica', 'AR', 'Canada', 'OR', 'WI', 'NC',\n",
       "       'France', 'WV', 'Norway', 'ME', 'NH', 'VT', 'MD', 'AL', 'KY', 'TN',\n",
       "       'MS', 'New Zealand', 'Netherlands', 'KS', 'ND', 'DC',\n",
       "       'Sierra Leone', 'Haiti', 'MT', 'South Korea', 'Spain', 'OK',\n",
       "       'Algeria', 'Egypt', 'WY', 'ID', 'Indonesia', 'RI',\n",
       "       'United Kingdom', 'Colombia', 'South Africa', 'IN', 'The Bahamas',\n",
       "       'Singapore', 'Pakistan', 'Malaysia', 'Mongolia', 'Israel',\n",
       "       'Hong Kong', 'Guatemala', 'Peru', 'Thailand', 'Sweden', 'Taiwan',\n",
       "       'LA', 'Germany', 'Czech Republic', 'India', 'Poland', 'DE',\n",
       "       'Costa Rica', 'Denmark', 'Bangladesh', 'Macedonia', 'Nigeria',\n",
       "       'SD', 'Tuvalu', 'Ireland', 'Vatican City', 'Lithuania',\n",
       "       'Papua New Guinea', 'Belgium', 'Benin', 'Croatia', 'Saudi Arabia',\n",
       "       'Latvia', 'Austria', 'Slovenia', 'Turkey', 'Russia', 'Greece',\n",
       "       'Slovakia', 'Brazil', 'Hungary', 'Argentina', 'Serbia', 'Ghana',\n",
       "       'Oman', 'United Arab Emirates', 'Finland', 'Barbados', 'Australia',\n",
       "       'Vietnam', 'Micronesia', 'Aruba', 'Liechtenstein', 'Cambodia',\n",
       "       'Kosovo', 'South Sudan', 'Luxembourg', 'Myanmar (Burma)',\n",
       "       'Maldives', 'Samoa', 'Burkina Faso', 'Moldova', 'Eritrea', 'Chile',\n",
       "       'Belarus', 'Venezuela', 'Georgia', 'Tanzania', 'Iceland', 'Iran',\n",
       "       'Honduras', 'Sao Tome and Principe', 'Kenya', 'Kiribati', 'Fiji',\n",
       "       'Kuwait', 'Uzbekistan', 'Romania', 'Panama', 'AA', 'Ethiopia',\n",
       "       'Zimbabwe', 'Ecuador', 'Cyprus', 'Djibouti', 'Cameroon', 'Yemen',\n",
       "       'Uruguay', 'Nicaragua', 'Swaziland', 'Sri Lanka', 'Morocco',\n",
       "       'Malawi', 'Togo', 'Monaco', 'Lebanon', 'Cabo Verde', 'Suriname',\n",
       "       'Mozambique', 'Liberia', 'Ukraine', 'Somalia', 'El Salvador',\n",
       "       'Azerbaijan', 'Bulgaria', 'Jordan', 'Botswana', 'Senegal',\n",
       "       'Bahrain', 'Sudan', 'Niger', 'Albania', 'Mali', 'Tunisia',\n",
       "       'Saint Vincent and the Grenadines', 'Marshall Islands',\n",
       "       'Republic of the Congo', 'Bosnia and Herzegovina', 'Syria',\n",
       "       'Montenegro', 'Iraq', 'Uganda', 'Guinea', 'Gabon',\n",
       "       'Equatorial Guinea', 'Brunei', 'Vanuatu', 'Saint Lucia',\n",
       "       \"Cote d'Ivoire\", 'Comoros', 'Guyana', 'Malta', 'Solomon Islands',\n",
       "       'Belize', 'Nauru', 'Trinidad and Tobago', 'Zambia',\n",
       "       'Democratic Republic of the Congo', 'Dominica', 'Paraguay',\n",
       "       'Tonga', 'Angola', 'Kyrgyzstan', 'Antigua and Barbuda',\n",
       "       'Central African Republic', 'Qatar', 'East Timor (Timor-Leste)',\n",
       "       'Seychelles', 'Andorra'], dtype=object)"
      ]
     },
     "execution_count": 78,
     "metadata": {},
     "output_type": "execute_result"
    }
   ],
   "source": [
    "ealtman2019_df[\"Merchant State\"].unique()"
   ]
  },
  {
   "cell_type": "code",
   "execution_count": 7,
   "id": "c27cd14b",
   "metadata": {},
   "outputs": [
    {
     "data": {
      "text/plain": [
       "2"
      ]
     },
     "execution_count": 7,
     "metadata": {},
     "output_type": "execute_result"
    }
   ],
   "source": [
    "ealtman2019_df[\"Is Fraud?\"].nunique()"
   ]
  },
  {
   "cell_type": "code",
   "execution_count": 8,
   "id": "11c3bc4e",
   "metadata": {},
   "outputs": [
    {
     "data": {
      "text/plain": [
       "23"
      ]
     },
     "execution_count": 8,
     "metadata": {},
     "output_type": "execute_result"
    }
   ],
   "source": [
    "ealtman2019_df[\"Errors?\"].nunique()"
   ]
  },
  {
   "cell_type": "code",
   "execution_count": 9,
   "id": "ac2d5539",
   "metadata": {},
   "outputs": [
    {
     "data": {
      "text/plain": [
       "array([nan, 'Technical Glitch', 'Insufficient Balance', 'Bad PIN',\n",
       "       'Bad PIN,Insufficient Balance', 'Bad Expiration',\n",
       "       'Bad PIN,Technical Glitch', 'Bad Card Number', 'Bad CVV',\n",
       "       'Bad Zipcode', 'Insufficient Balance,Technical Glitch',\n",
       "       'Bad Card Number,Insufficient Balance', 'Bad Card Number,Bad CVV',\n",
       "       'Bad CVV,Insufficient Balance', 'Bad Card Number,Bad Expiration',\n",
       "       'Bad Expiration,Bad CVV', 'Bad Expiration,Insufficient Balance',\n",
       "       'Bad Expiration,Technical Glitch',\n",
       "       'Bad Card Number,Bad Expiration,Technical Glitch',\n",
       "       'Bad CVV,Technical Glitch', 'Bad Card Number,Technical Glitch',\n",
       "       'Bad Zipcode,Insufficient Balance', 'Bad Zipcode,Technical Glitch',\n",
       "       'Bad Card Number,Bad Expiration,Insufficient Balance'],\n",
       "      dtype=object)"
      ]
     },
     "execution_count": 9,
     "metadata": {},
     "output_type": "execute_result"
    }
   ],
   "source": [
    "Unique_Error_df = (ealtman2019_df[\"Errors?\"].unique())\n",
    "Unique_Error_df"
   ]
  },
  {
   "cell_type": "code",
   "execution_count": 10,
   "id": "5797dd59",
   "metadata": {},
   "outputs": [
    {
     "data": {
      "text/plain": [
       "array([2002, 2003, 2004, 2005, 2006, 2007, 2008, 2009, 2010, 2011, 2012,\n",
       "       2013, 2014, 2015, 2016, 2017, 2018, 2019, 2020, 1999, 2000, 2001,\n",
       "       1998, 1996, 1997, 1995, 1994, 1991, 1992, 1993], dtype=int64)"
      ]
     },
     "execution_count": 10,
     "metadata": {},
     "output_type": "execute_result"
    }
   ],
   "source": [
    "ealtman2019_df[\"Year\"].unique()"
   ]
  },
  {
   "cell_type": "code",
   "execution_count": 11,
   "id": "92de4587",
   "metadata": {},
   "outputs": [],
   "source": [
    "# ealtman2019_rounded_df = \n",
    "# cents_int = int(round(float(dollars.strip('$'))*100))"
   ]
  },
  {
   "cell_type": "code",
   "execution_count": 12,
   "id": "f7cccbce",
   "metadata": {},
   "outputs": [
    {
     "data": {
      "text/plain": [
       "User                int64\n",
       "Card                int64\n",
       "Year                int64\n",
       "Month               int64\n",
       "Day                 int64\n",
       "Time               object\n",
       "Amount             object\n",
       "Use Chip           object\n",
       "Merchant Name       int64\n",
       "Merchant City      object\n",
       "Merchant State     object\n",
       "Zip               float64\n",
       "MCC                 int64\n",
       "Errors?            object\n",
       "Is Fraud?          object\n",
       "dtype: object"
      ]
     },
     "execution_count": 12,
     "metadata": {},
     "output_type": "execute_result"
    }
   ],
   "source": [
    "types = ealtman2019_df.dtypes\n",
    "types"
   ]
  },
  {
   "cell_type": "code",
   "execution_count": 13,
   "id": "7d3a836d",
   "metadata": {},
   "outputs": [
    {
     "name": "stderr",
     "output_type": "stream",
     "text": [
      "C:\\Users\\Aaron\\AppData\\Local\\Temp\\ipykernel_24748\\120783198.py:4: FutureWarning: The default value of regex will change from True to False in a future version. In addition, single character regular expressions will *not* be treated as literal strings when regex=True.\n",
      "  ealtman2019_df['Amount'] = ealtman2019_df['Amount'].str.replace(\"$\",\"\")\n"
     ]
    }
   ],
   "source": [
    "# ealtman2019_df['amount'] = ealtman2019_df.to_numeric(ealtman2019_df['amount'])\n",
    "# ealtman2019_df['amount'] = ealtman2019_df.int(round(float(amount.strip('$'))))\n",
    "# ealtman2019_df['amount'] = ealtman2019_df(['amount'].strip('$'))\n",
    "ealtman2019_df['Amount'] = ealtman2019_df['Amount'].str.replace(\"$\",\"\")"
   ]
  },
  {
   "cell_type": "code",
   "execution_count": 14,
   "id": "5dd85ddb",
   "metadata": {},
   "outputs": [
    {
     "data": {
      "text/plain": [
       "array(['134.09', '38.48', '120.34', ..., '588.73', '1201.00', '584.63'],\n",
       "      dtype=object)"
      ]
     },
     "execution_count": 14,
     "metadata": {},
     "output_type": "execute_result"
    }
   ],
   "source": [
    "ealtman2019_df[\"Amount\"].unique()"
   ]
  },
  {
   "cell_type": "code",
   "execution_count": 15,
   "id": "3b5b713b",
   "metadata": {},
   "outputs": [],
   "source": [
    "ealtman2019_df['Amount'] = ealtman2019_df[\"Amount\"].astype(float)\n",
    "# ds[\"cat\"] = ds[\"cat\"].astype(int)"
   ]
  },
  {
   "cell_type": "code",
   "execution_count": 16,
   "id": "36ab9cda",
   "metadata": {},
   "outputs": [],
   "source": [
    "ealtman2019_df['Amount'] = ealtman2019_df[\"Amount\"].round(decimals = 0)"
   ]
  },
  {
   "cell_type": "code",
   "execution_count": 17,
   "id": "1cd3c0bb",
   "metadata": {},
   "outputs": [],
   "source": [
    "ealtman2019_df['Amount'] = ealtman2019_df['Amount'].astype(int)"
   ]
  },
  {
   "cell_type": "code",
   "execution_count": 18,
   "id": "ca71d77e",
   "metadata": {},
   "outputs": [
    {
     "data": {
      "text/plain": [
       "0    134\n",
       "1     38\n",
       "2    120\n",
       "3    129\n",
       "4    105\n",
       "Name: Amount, dtype: int32"
      ]
     },
     "execution_count": 18,
     "metadata": {},
     "output_type": "execute_result"
    }
   ],
   "source": [
    "ealtman2019_df['Amount'].head()"
   ]
  },
  {
   "cell_type": "code",
   "execution_count": 19,
   "id": "b53fa742",
   "metadata": {},
   "outputs": [
    {
     "data": {
      "text/plain": [
       "array(['Swipe Transaction', 'Online Transaction', 'Chip Transaction'],\n",
       "      dtype=object)"
      ]
     },
     "execution_count": 19,
     "metadata": {},
     "output_type": "execute_result"
    }
   ],
   "source": [
    "ealtman2019_df[\"Use Chip\"].unique()"
   ]
  },
  {
   "cell_type": "code",
   "execution_count": 20,
   "id": "ffa03e21",
   "metadata": {},
   "outputs": [
    {
     "data": {
      "text/plain": [
       "223"
      ]
     },
     "execution_count": 20,
     "metadata": {},
     "output_type": "execute_result"
    }
   ],
   "source": [
    "ealtman2019_df[\"Merchant State\"].nunique()"
   ]
  },
  {
   "cell_type": "code",
   "execution_count": 21,
   "id": "c56d9143",
   "metadata": {},
   "outputs": [
    {
     "data": {
      "text/plain": [
       "2000"
      ]
     },
     "execution_count": 21,
     "metadata": {},
     "output_type": "execute_result"
    }
   ],
   "source": [
    "ealtman2019_df[\"User\"].nunique()"
   ]
  },
  {
   "cell_type": "code",
   "execution_count": 22,
   "id": "5a1327df",
   "metadata": {},
   "outputs": [
    {
     "data": {
      "text/plain": [
       "9"
      ]
     },
     "execution_count": 22,
     "metadata": {},
     "output_type": "execute_result"
    }
   ],
   "source": [
    "ealtman2019_df[\"Card\"].nunique()"
   ]
  },
  {
   "cell_type": "code",
   "execution_count": 23,
   "id": "483178a2",
   "metadata": {},
   "outputs": [
    {
     "data": {
      "text/plain": [
       "array([0, 1, 2, 3, 4, 5, 6, 7, 8], dtype=int64)"
      ]
     },
     "execution_count": 23,
     "metadata": {},
     "output_type": "execute_result"
    }
   ],
   "source": [
    "ealtman2019_df[\"Card\"].unique()"
   ]
  },
  {
   "cell_type": "code",
   "execution_count": 24,
   "id": "00b06007",
   "metadata": {},
   "outputs": [
    {
     "data": {
      "text/plain": [
       "-500"
      ]
     },
     "execution_count": 24,
     "metadata": {},
     "output_type": "execute_result"
    }
   ],
   "source": [
    "ealtman2019_df['Amount'].min()"
   ]
  },
  {
   "cell_type": "code",
   "execution_count": 25,
   "id": "492b4e3f",
   "metadata": {},
   "outputs": [
    {
     "data": {
      "text/plain": [
       "12390"
      ]
     },
     "execution_count": 25,
     "metadata": {},
     "output_type": "execute_result"
    }
   ],
   "source": [
    "ealtman2019_df['Amount'].max()"
   ]
  },
  {
   "cell_type": "code",
   "execution_count": 26,
   "id": "f62d9b3f",
   "metadata": {},
   "outputs": [
    {
     "data": {
      "text/plain": [
       "24386900"
      ]
     },
     "execution_count": 26,
     "metadata": {},
     "output_type": "execute_result"
    }
   ],
   "source": [
    "# ealtman2019_df[['Amount'] < 0].count()\n",
    "# negative_amount = (ealtman2019_df['Amount'] < 0).count()\n",
    "# negative_amount"
   ]
  },
  {
   "cell_type": "code",
   "execution_count": 27,
   "id": "d66cb397",
   "metadata": {},
   "outputs": [
    {
     "data": {
      "text/plain": [
       "1244559"
      ]
     },
     "execution_count": 27,
     "metadata": {},
     "output_type": "execute_result"
    }
   ],
   "source": [
    "limit = 0\n",
    "column = ealtman2019_df['Amount']\n",
    "count_under = column[column < limit].count()\n",
    "count_under"
   ]
  },
  {
   "cell_type": "code",
   "execution_count": 28,
   "id": "e6ab3173",
   "metadata": {},
   "outputs": [
    {
     "data": {
      "text/plain": [
       "22964731"
      ]
     },
     "execution_count": 28,
     "metadata": {},
     "output_type": "execute_result"
    }
   ],
   "source": [
    "count_over = column[column > limit].count()\n",
    "count_over"
   ]
  },
  {
   "cell_type": "code",
   "execution_count": 29,
   "id": "9de9616d",
   "metadata": {},
   "outputs": [
    {
     "data": {
      "text/plain": [
       "177610"
      ]
     },
     "execution_count": 29,
     "metadata": {},
     "output_type": "execute_result"
    }
   ],
   "source": [
    "count_zero = column[column == limit].count()\n",
    "count_zero"
   ]
  },
  {
   "cell_type": "code",
   "execution_count": 30,
   "id": "503239a4",
   "metadata": {},
   "outputs": [
    {
     "data": {
      "text/plain": [
       "24386900"
      ]
     },
     "execution_count": 30,
     "metadata": {},
     "output_type": "execute_result"
    }
   ],
   "source": [
    "count = count_over + count_under + count_zero\n",
    "count"
   ]
  },
  {
   "cell_type": "code",
   "execution_count": 32,
   "id": "c445e87f",
   "metadata": {},
   "outputs": [
    {
     "data": {
      "text/html": [
       "<div>\n",
       "<style scoped>\n",
       "    .dataframe tbody tr th:only-of-type {\n",
       "        vertical-align: middle;\n",
       "    }\n",
       "\n",
       "    .dataframe tbody tr th {\n",
       "        vertical-align: top;\n",
       "    }\n",
       "\n",
       "    .dataframe thead th {\n",
       "        text-align: right;\n",
       "    }\n",
       "</style>\n",
       "<table border=\"1\" class=\"dataframe\">\n",
       "  <thead>\n",
       "    <tr style=\"text-align: right;\">\n",
       "      <th></th>\n",
       "      <th>User</th>\n",
       "      <th>Card</th>\n",
       "      <th>Year</th>\n",
       "      <th>Month</th>\n",
       "      <th>Day</th>\n",
       "      <th>Time</th>\n",
       "      <th>Use Chip</th>\n",
       "      <th>Merchant Name</th>\n",
       "      <th>Merchant City</th>\n",
       "      <th>Merchant State</th>\n",
       "      <th>Zip</th>\n",
       "      <th>MCC</th>\n",
       "      <th>Errors?</th>\n",
       "      <th>Is Fraud?</th>\n",
       "    </tr>\n",
       "    <tr>\n",
       "      <th>Amount</th>\n",
       "      <th></th>\n",
       "      <th></th>\n",
       "      <th></th>\n",
       "      <th></th>\n",
       "      <th></th>\n",
       "      <th></th>\n",
       "      <th></th>\n",
       "      <th></th>\n",
       "      <th></th>\n",
       "      <th></th>\n",
       "      <th></th>\n",
       "      <th></th>\n",
       "      <th></th>\n",
       "      <th></th>\n",
       "    </tr>\n",
       "  </thead>\n",
       "  <tbody>\n",
       "    <tr>\n",
       "      <th>12390</th>\n",
       "      <td>1</td>\n",
       "      <td>1</td>\n",
       "      <td>1</td>\n",
       "      <td>1</td>\n",
       "      <td>1</td>\n",
       "      <td>1</td>\n",
       "      <td>1</td>\n",
       "      <td>1</td>\n",
       "      <td>1</td>\n",
       "      <td>0</td>\n",
       "      <td>0</td>\n",
       "      <td>1</td>\n",
       "      <td>0</td>\n",
       "      <td>1</td>\n",
       "    </tr>\n",
       "    <tr>\n",
       "      <th>2172</th>\n",
       "      <td>1</td>\n",
       "      <td>1</td>\n",
       "      <td>1</td>\n",
       "      <td>1</td>\n",
       "      <td>1</td>\n",
       "      <td>1</td>\n",
       "      <td>1</td>\n",
       "      <td>1</td>\n",
       "      <td>1</td>\n",
       "      <td>0</td>\n",
       "      <td>0</td>\n",
       "      <td>1</td>\n",
       "      <td>0</td>\n",
       "      <td>1</td>\n",
       "    </tr>\n",
       "    <tr>\n",
       "      <th>2175</th>\n",
       "      <td>1</td>\n",
       "      <td>1</td>\n",
       "      <td>1</td>\n",
       "      <td>1</td>\n",
       "      <td>1</td>\n",
       "      <td>1</td>\n",
       "      <td>1</td>\n",
       "      <td>1</td>\n",
       "      <td>1</td>\n",
       "      <td>1</td>\n",
       "      <td>1</td>\n",
       "      <td>1</td>\n",
       "      <td>0</td>\n",
       "      <td>1</td>\n",
       "    </tr>\n",
       "    <tr>\n",
       "      <th>2177</th>\n",
       "      <td>1</td>\n",
       "      <td>1</td>\n",
       "      <td>1</td>\n",
       "      <td>1</td>\n",
       "      <td>1</td>\n",
       "      <td>1</td>\n",
       "      <td>1</td>\n",
       "      <td>1</td>\n",
       "      <td>1</td>\n",
       "      <td>0</td>\n",
       "      <td>0</td>\n",
       "      <td>1</td>\n",
       "      <td>0</td>\n",
       "      <td>1</td>\n",
       "    </tr>\n",
       "    <tr>\n",
       "      <th>2179</th>\n",
       "      <td>1</td>\n",
       "      <td>1</td>\n",
       "      <td>1</td>\n",
       "      <td>1</td>\n",
       "      <td>1</td>\n",
       "      <td>1</td>\n",
       "      <td>1</td>\n",
       "      <td>1</td>\n",
       "      <td>1</td>\n",
       "      <td>1</td>\n",
       "      <td>1</td>\n",
       "      <td>1</td>\n",
       "      <td>0</td>\n",
       "      <td>1</td>\n",
       "    </tr>\n",
       "    <tr>\n",
       "      <th>...</th>\n",
       "      <td>...</td>\n",
       "      <td>...</td>\n",
       "      <td>...</td>\n",
       "      <td>...</td>\n",
       "      <td>...</td>\n",
       "      <td>...</td>\n",
       "      <td>...</td>\n",
       "      <td>...</td>\n",
       "      <td>...</td>\n",
       "      <td>...</td>\n",
       "      <td>...</td>\n",
       "      <td>...</td>\n",
       "      <td>...</td>\n",
       "      <td>...</td>\n",
       "    </tr>\n",
       "    <tr>\n",
       "      <th>10</th>\n",
       "      <td>419500</td>\n",
       "      <td>419500</td>\n",
       "      <td>419500</td>\n",
       "      <td>419500</td>\n",
       "      <td>419500</td>\n",
       "      <td>419500</td>\n",
       "      <td>419500</td>\n",
       "      <td>419500</td>\n",
       "      <td>419500</td>\n",
       "      <td>391232</td>\n",
       "      <td>388118</td>\n",
       "      <td>419500</td>\n",
       "      <td>3236</td>\n",
       "      <td>419500</td>\n",
       "    </tr>\n",
       "    <tr>\n",
       "      <th>4</th>\n",
       "      <td>531054</td>\n",
       "      <td>531054</td>\n",
       "      <td>531054</td>\n",
       "      <td>531054</td>\n",
       "      <td>531054</td>\n",
       "      <td>531054</td>\n",
       "      <td>531054</td>\n",
       "      <td>531054</td>\n",
       "      <td>531054</td>\n",
       "      <td>516802</td>\n",
       "      <td>512046</td>\n",
       "      <td>531054</td>\n",
       "      <td>3701</td>\n",
       "      <td>531054</td>\n",
       "    </tr>\n",
       "    <tr>\n",
       "      <th>3</th>\n",
       "      <td>691777</td>\n",
       "      <td>691777</td>\n",
       "      <td>691777</td>\n",
       "      <td>691777</td>\n",
       "      <td>691777</td>\n",
       "      <td>691777</td>\n",
       "      <td>691777</td>\n",
       "      <td>691777</td>\n",
       "      <td>691777</td>\n",
       "      <td>674635</td>\n",
       "      <td>669511</td>\n",
       "      <td>691777</td>\n",
       "      <td>4581</td>\n",
       "      <td>691777</td>\n",
       "    </tr>\n",
       "    <tr>\n",
       "      <th>1</th>\n",
       "      <td>781682</td>\n",
       "      <td>781682</td>\n",
       "      <td>781682</td>\n",
       "      <td>781682</td>\n",
       "      <td>781682</td>\n",
       "      <td>781682</td>\n",
       "      <td>781682</td>\n",
       "      <td>781682</td>\n",
       "      <td>781682</td>\n",
       "      <td>763490</td>\n",
       "      <td>758218</td>\n",
       "      <td>781682</td>\n",
       "      <td>4870</td>\n",
       "      <td>781682</td>\n",
       "    </tr>\n",
       "    <tr>\n",
       "      <th>2</th>\n",
       "      <td>847631</td>\n",
       "      <td>847631</td>\n",
       "      <td>847631</td>\n",
       "      <td>847631</td>\n",
       "      <td>847631</td>\n",
       "      <td>847631</td>\n",
       "      <td>847631</td>\n",
       "      <td>847631</td>\n",
       "      <td>847631</td>\n",
       "      <td>823999</td>\n",
       "      <td>818244</td>\n",
       "      <td>847631</td>\n",
       "      <td>5650</td>\n",
       "      <td>847631</td>\n",
       "    </tr>\n",
       "  </tbody>\n",
       "</table>\n",
       "<p>2901 rows × 14 columns</p>\n",
       "</div>"
      ],
      "text/plain": [
       "          User    Card    Year   Month     Day    Time  Use Chip  \\\n",
       "Amount                                                             \n",
       "12390        1       1       1       1       1       1         1   \n",
       "2172         1       1       1       1       1       1         1   \n",
       "2175         1       1       1       1       1       1         1   \n",
       "2177         1       1       1       1       1       1         1   \n",
       "2179         1       1       1       1       1       1         1   \n",
       "...        ...     ...     ...     ...     ...     ...       ...   \n",
       "10      419500  419500  419500  419500  419500  419500    419500   \n",
       "4       531054  531054  531054  531054  531054  531054    531054   \n",
       "3       691777  691777  691777  691777  691777  691777    691777   \n",
       "1       781682  781682  781682  781682  781682  781682    781682   \n",
       "2       847631  847631  847631  847631  847631  847631    847631   \n",
       "\n",
       "        Merchant Name  Merchant City  Merchant State     Zip     MCC  Errors?  \\\n",
       "Amount                                                                          \n",
       "12390               1              1               0       0       1        0   \n",
       "2172                1              1               0       0       1        0   \n",
       "2175                1              1               1       1       1        0   \n",
       "2177                1              1               0       0       1        0   \n",
       "2179                1              1               1       1       1        0   \n",
       "...               ...            ...             ...     ...     ...      ...   \n",
       "10             419500         419500          391232  388118  419500     3236   \n",
       "4              531054         531054          516802  512046  531054     3701   \n",
       "3              691777         691777          674635  669511  691777     4581   \n",
       "1              781682         781682          763490  758218  781682     4870   \n",
       "2              847631         847631          823999  818244  847631     5650   \n",
       "\n",
       "        Is Fraud?  \n",
       "Amount             \n",
       "12390           1  \n",
       "2172            1  \n",
       "2175            1  \n",
       "2177            1  \n",
       "2179            1  \n",
       "...           ...  \n",
       "10         419500  \n",
       "4          531054  \n",
       "3          691777  \n",
       "1          781682  \n",
       "2          847631  \n",
       "\n",
       "[2901 rows x 14 columns]"
      ]
     },
     "execution_count": 32,
     "metadata": {},
     "output_type": "execute_result"
    }
   ],
   "source": [
    "ealtman2019_df.groupby(['Amount']).count().sort_values([\"Is Fraud?\"])"
   ]
  },
  {
   "cell_type": "code",
   "execution_count": 34,
   "id": "92b2b30a",
   "metadata": {},
   "outputs": [
    {
     "data": {
      "text/plain": [
       "24386900"
      ]
     },
     "execution_count": 34,
     "metadata": {},
     "output_type": "execute_result"
    }
   ],
   "source": [
    "fraud_column = ealtman2019_df['Is Fraud?']\n",
    "fraud_count = fraud_column.count()\n",
    "fraud_count"
   ]
  },
  {
   "cell_type": "code",
   "execution_count": 37,
   "id": "e9b2984d",
   "metadata": {},
   "outputs": [
    {
     "data": {
      "text/plain": [
       "24357143"
      ]
     },
     "execution_count": 37,
     "metadata": {},
     "output_type": "execute_result"
    }
   ],
   "source": [
    "fraud_Zero = fraud_column[fraud_column == 'No'].count()\n",
    "fraud_Zero"
   ]
  },
  {
   "cell_type": "code",
   "execution_count": 38,
   "id": "d8154c67",
   "metadata": {},
   "outputs": [
    {
     "data": {
      "text/plain": [
       "29757"
      ]
     },
     "execution_count": 38,
     "metadata": {},
     "output_type": "execute_result"
    }
   ],
   "source": [
    "fraud_One  = fraud_column[fraud_column == 'Yes'].count()\n",
    "fraud_One"
   ]
  },
  {
   "cell_type": "code",
   "execution_count": 40,
   "id": "d49624dd",
   "metadata": {},
   "outputs": [
    {
     "data": {
      "text/plain": [
       "24386900"
      ]
     },
     "execution_count": 40,
     "metadata": {},
     "output_type": "execute_result"
    }
   ],
   "source": [
    "fraud_Total = fraud_Zero + fraud_One\n",
    "fraud_Total"
   ]
  },
  {
   "cell_type": "code",
   "execution_count": 44,
   "id": "b075939c",
   "metadata": {},
   "outputs": [
    {
     "data": {
      "text/html": [
       "<div>\n",
       "<style scoped>\n",
       "    .dataframe tbody tr th:only-of-type {\n",
       "        vertical-align: middle;\n",
       "    }\n",
       "\n",
       "    .dataframe tbody tr th {\n",
       "        vertical-align: top;\n",
       "    }\n",
       "\n",
       "    .dataframe thead th {\n",
       "        text-align: right;\n",
       "    }\n",
       "</style>\n",
       "<table border=\"1\" class=\"dataframe\">\n",
       "  <thead>\n",
       "    <tr style=\"text-align: right;\">\n",
       "      <th></th>\n",
       "      <th>User</th>\n",
       "      <th>Card</th>\n",
       "      <th>Year</th>\n",
       "      <th>Month</th>\n",
       "      <th>Day</th>\n",
       "      <th>Time</th>\n",
       "      <th>Amount</th>\n",
       "      <th>Use Chip</th>\n",
       "      <th>Merchant Name</th>\n",
       "      <th>Merchant City</th>\n",
       "      <th>Merchant State</th>\n",
       "      <th>Zip</th>\n",
       "      <th>MCC</th>\n",
       "      <th>Errors?</th>\n",
       "      <th>Is Fraud?</th>\n",
       "    </tr>\n",
       "  </thead>\n",
       "  <tbody>\n",
       "    <tr>\n",
       "      <th>0</th>\n",
       "      <td>0</td>\n",
       "      <td>0</td>\n",
       "      <td>2002</td>\n",
       "      <td>9</td>\n",
       "      <td>1</td>\n",
       "      <td>06:21</td>\n",
       "      <td>134</td>\n",
       "      <td>Swipe Transaction</td>\n",
       "      <td>3527213246127876953</td>\n",
       "      <td>La Verne</td>\n",
       "      <td>CA</td>\n",
       "      <td>91750.0</td>\n",
       "      <td>5300</td>\n",
       "      <td>NaN</td>\n",
       "      <td>0</td>\n",
       "    </tr>\n",
       "    <tr>\n",
       "      <th>1</th>\n",
       "      <td>0</td>\n",
       "      <td>0</td>\n",
       "      <td>2002</td>\n",
       "      <td>9</td>\n",
       "      <td>1</td>\n",
       "      <td>06:42</td>\n",
       "      <td>38</td>\n",
       "      <td>Swipe Transaction</td>\n",
       "      <td>-727612092139916043</td>\n",
       "      <td>Monterey Park</td>\n",
       "      <td>CA</td>\n",
       "      <td>91754.0</td>\n",
       "      <td>5411</td>\n",
       "      <td>NaN</td>\n",
       "      <td>0</td>\n",
       "    </tr>\n",
       "    <tr>\n",
       "      <th>2</th>\n",
       "      <td>0</td>\n",
       "      <td>0</td>\n",
       "      <td>2002</td>\n",
       "      <td>9</td>\n",
       "      <td>2</td>\n",
       "      <td>06:22</td>\n",
       "      <td>120</td>\n",
       "      <td>Swipe Transaction</td>\n",
       "      <td>-727612092139916043</td>\n",
       "      <td>Monterey Park</td>\n",
       "      <td>CA</td>\n",
       "      <td>91754.0</td>\n",
       "      <td>5411</td>\n",
       "      <td>NaN</td>\n",
       "      <td>0</td>\n",
       "    </tr>\n",
       "    <tr>\n",
       "      <th>3</th>\n",
       "      <td>0</td>\n",
       "      <td>0</td>\n",
       "      <td>2002</td>\n",
       "      <td>9</td>\n",
       "      <td>2</td>\n",
       "      <td>17:45</td>\n",
       "      <td>129</td>\n",
       "      <td>Swipe Transaction</td>\n",
       "      <td>3414527459579106770</td>\n",
       "      <td>Monterey Park</td>\n",
       "      <td>CA</td>\n",
       "      <td>91754.0</td>\n",
       "      <td>5651</td>\n",
       "      <td>NaN</td>\n",
       "      <td>0</td>\n",
       "    </tr>\n",
       "    <tr>\n",
       "      <th>4</th>\n",
       "      <td>0</td>\n",
       "      <td>0</td>\n",
       "      <td>2002</td>\n",
       "      <td>9</td>\n",
       "      <td>3</td>\n",
       "      <td>06:23</td>\n",
       "      <td>105</td>\n",
       "      <td>Swipe Transaction</td>\n",
       "      <td>5817218446178736267</td>\n",
       "      <td>La Verne</td>\n",
       "      <td>CA</td>\n",
       "      <td>91750.0</td>\n",
       "      <td>5912</td>\n",
       "      <td>NaN</td>\n",
       "      <td>0</td>\n",
       "    </tr>\n",
       "    <tr>\n",
       "      <th>...</th>\n",
       "      <td>...</td>\n",
       "      <td>...</td>\n",
       "      <td>...</td>\n",
       "      <td>...</td>\n",
       "      <td>...</td>\n",
       "      <td>...</td>\n",
       "      <td>...</td>\n",
       "      <td>...</td>\n",
       "      <td>...</td>\n",
       "      <td>...</td>\n",
       "      <td>...</td>\n",
       "      <td>...</td>\n",
       "      <td>...</td>\n",
       "      <td>...</td>\n",
       "      <td>...</td>\n",
       "    </tr>\n",
       "    <tr>\n",
       "      <th>95</th>\n",
       "      <td>0</td>\n",
       "      <td>0</td>\n",
       "      <td>2002</td>\n",
       "      <td>10</td>\n",
       "      <td>3</td>\n",
       "      <td>06:50</td>\n",
       "      <td>36</td>\n",
       "      <td>Swipe Transaction</td>\n",
       "      <td>-5475680618560174533</td>\n",
       "      <td>Monterey Park</td>\n",
       "      <td>CA</td>\n",
       "      <td>91755.0</td>\n",
       "      <td>5942</td>\n",
       "      <td>NaN</td>\n",
       "      <td>0</td>\n",
       "    </tr>\n",
       "    <tr>\n",
       "      <th>96</th>\n",
       "      <td>0</td>\n",
       "      <td>0</td>\n",
       "      <td>2002</td>\n",
       "      <td>10</td>\n",
       "      <td>4</td>\n",
       "      <td>06:20</td>\n",
       "      <td>115</td>\n",
       "      <td>Swipe Transaction</td>\n",
       "      <td>3527213246127876953</td>\n",
       "      <td>La Verne</td>\n",
       "      <td>CA</td>\n",
       "      <td>91750.0</td>\n",
       "      <td>5300</td>\n",
       "      <td>NaN</td>\n",
       "      <td>0</td>\n",
       "    </tr>\n",
       "    <tr>\n",
       "      <th>97</th>\n",
       "      <td>0</td>\n",
       "      <td>0</td>\n",
       "      <td>2002</td>\n",
       "      <td>10</td>\n",
       "      <td>5</td>\n",
       "      <td>09:34</td>\n",
       "      <td>53</td>\n",
       "      <td>Swipe Transaction</td>\n",
       "      <td>-3345936507911876459</td>\n",
       "      <td>La Verne</td>\n",
       "      <td>CA</td>\n",
       "      <td>91750.0</td>\n",
       "      <td>7538</td>\n",
       "      <td>NaN</td>\n",
       "      <td>0</td>\n",
       "    </tr>\n",
       "    <tr>\n",
       "      <th>98</th>\n",
       "      <td>0</td>\n",
       "      <td>0</td>\n",
       "      <td>2002</td>\n",
       "      <td>10</td>\n",
       "      <td>5</td>\n",
       "      <td>10:38</td>\n",
       "      <td>17</td>\n",
       "      <td>Swipe Transaction</td>\n",
       "      <td>9137769173591184401</td>\n",
       "      <td>La Verne</td>\n",
       "      <td>CA</td>\n",
       "      <td>91750.0</td>\n",
       "      <td>7210</td>\n",
       "      <td>NaN</td>\n",
       "      <td>0</td>\n",
       "    </tr>\n",
       "    <tr>\n",
       "      <th>99</th>\n",
       "      <td>0</td>\n",
       "      <td>0</td>\n",
       "      <td>2002</td>\n",
       "      <td>10</td>\n",
       "      <td>6</td>\n",
       "      <td>06:14</td>\n",
       "      <td>139</td>\n",
       "      <td>Online Transaction</td>\n",
       "      <td>-7421093378627544099</td>\n",
       "      <td>ONLINE</td>\n",
       "      <td>NaN</td>\n",
       "      <td>NaN</td>\n",
       "      <td>5311</td>\n",
       "      <td>NaN</td>\n",
       "      <td>0</td>\n",
       "    </tr>\n",
       "  </tbody>\n",
       "</table>\n",
       "<p>100 rows × 15 columns</p>\n",
       "</div>"
      ],
      "text/plain": [
       "    User  Card  Year  Month  Day   Time  Amount            Use Chip  \\\n",
       "0      0     0  2002      9    1  06:21     134   Swipe Transaction   \n",
       "1      0     0  2002      9    1  06:42      38   Swipe Transaction   \n",
       "2      0     0  2002      9    2  06:22     120   Swipe Transaction   \n",
       "3      0     0  2002      9    2  17:45     129   Swipe Transaction   \n",
       "4      0     0  2002      9    3  06:23     105   Swipe Transaction   \n",
       "..   ...   ...   ...    ...  ...    ...     ...                 ...   \n",
       "95     0     0  2002     10    3  06:50      36   Swipe Transaction   \n",
       "96     0     0  2002     10    4  06:20     115   Swipe Transaction   \n",
       "97     0     0  2002     10    5  09:34      53   Swipe Transaction   \n",
       "98     0     0  2002     10    5  10:38      17   Swipe Transaction   \n",
       "99     0     0  2002     10    6  06:14     139  Online Transaction   \n",
       "\n",
       "          Merchant Name  Merchant City Merchant State      Zip   MCC Errors?  \\\n",
       "0   3527213246127876953       La Verne             CA  91750.0  5300     NaN   \n",
       "1   -727612092139916043  Monterey Park             CA  91754.0  5411     NaN   \n",
       "2   -727612092139916043  Monterey Park             CA  91754.0  5411     NaN   \n",
       "3   3414527459579106770  Monterey Park             CA  91754.0  5651     NaN   \n",
       "4   5817218446178736267       La Verne             CA  91750.0  5912     NaN   \n",
       "..                  ...            ...            ...      ...   ...     ...   \n",
       "95 -5475680618560174533  Monterey Park             CA  91755.0  5942     NaN   \n",
       "96  3527213246127876953       La Verne             CA  91750.0  5300     NaN   \n",
       "97 -3345936507911876459       La Verne             CA  91750.0  7538     NaN   \n",
       "98  9137769173591184401       La Verne             CA  91750.0  7210     NaN   \n",
       "99 -7421093378627544099         ONLINE            NaN      NaN  5311     NaN   \n",
       "\n",
       "    Is Fraud?  \n",
       "0           0  \n",
       "1           0  \n",
       "2           0  \n",
       "3           0  \n",
       "4           0  \n",
       "..        ...  \n",
       "95          0  \n",
       "96          0  \n",
       "97          0  \n",
       "98          0  \n",
       "99          0  \n",
       "\n",
       "[100 rows x 15 columns]"
      ]
     },
     "execution_count": 44,
     "metadata": {},
     "output_type": "execute_result"
    }
   ],
   "source": [
    "ealtman2019_fraudInt = ealtman2019_df.replace({\"Yes\": 1})\n",
    "ealtman2019_fraudInt = ealtman2019_df.replace({\"No\": 0})\n",
    "ealtman2019_fraudInt.head(100)"
   ]
  },
  {
   "cell_type": "code",
   "execution_count": 50,
   "id": "5b4c2d38",
   "metadata": {
    "scrolled": true
   },
   "outputs": [
    {
     "data": {
      "text/html": [
       "<div>\n",
       "<style scoped>\n",
       "    .dataframe tbody tr th:only-of-type {\n",
       "        vertical-align: middle;\n",
       "    }\n",
       "\n",
       "    .dataframe tbody tr th {\n",
       "        vertical-align: top;\n",
       "    }\n",
       "\n",
       "    .dataframe thead th {\n",
       "        text-align: right;\n",
       "    }\n",
       "</style>\n",
       "<table border=\"1\" class=\"dataframe\">\n",
       "  <thead>\n",
       "    <tr style=\"text-align: right;\">\n",
       "      <th></th>\n",
       "      <th>User</th>\n",
       "      <th>Card</th>\n",
       "      <th>Year</th>\n",
       "      <th>Month</th>\n",
       "      <th>Day</th>\n",
       "      <th>Time</th>\n",
       "      <th>Amount</th>\n",
       "      <th>Merchant Name</th>\n",
       "      <th>Merchant City</th>\n",
       "      <th>Merchant State</th>\n",
       "      <th>Zip</th>\n",
       "      <th>MCC</th>\n",
       "      <th>Errors?</th>\n",
       "      <th>Is Fraud?</th>\n",
       "      <th>Use Chip_Chip Transaction</th>\n",
       "      <th>Use Chip_Online Transaction</th>\n",
       "      <th>Use Chip_Swipe Transaction</th>\n",
       "    </tr>\n",
       "  </thead>\n",
       "  <tbody>\n",
       "    <tr>\n",
       "      <th>0</th>\n",
       "      <td>0</td>\n",
       "      <td>0</td>\n",
       "      <td>2002</td>\n",
       "      <td>9</td>\n",
       "      <td>1</td>\n",
       "      <td>06:21</td>\n",
       "      <td>134</td>\n",
       "      <td>3527213246127876953</td>\n",
       "      <td>La Verne</td>\n",
       "      <td>CA</td>\n",
       "      <td>91750.0</td>\n",
       "      <td>5300</td>\n",
       "      <td>NaN</td>\n",
       "      <td>0</td>\n",
       "      <td>0</td>\n",
       "      <td>0</td>\n",
       "      <td>1</td>\n",
       "    </tr>\n",
       "    <tr>\n",
       "      <th>1</th>\n",
       "      <td>0</td>\n",
       "      <td>0</td>\n",
       "      <td>2002</td>\n",
       "      <td>9</td>\n",
       "      <td>1</td>\n",
       "      <td>06:42</td>\n",
       "      <td>38</td>\n",
       "      <td>-727612092139916043</td>\n",
       "      <td>Monterey Park</td>\n",
       "      <td>CA</td>\n",
       "      <td>91754.0</td>\n",
       "      <td>5411</td>\n",
       "      <td>NaN</td>\n",
       "      <td>0</td>\n",
       "      <td>0</td>\n",
       "      <td>0</td>\n",
       "      <td>1</td>\n",
       "    </tr>\n",
       "    <tr>\n",
       "      <th>2</th>\n",
       "      <td>0</td>\n",
       "      <td>0</td>\n",
       "      <td>2002</td>\n",
       "      <td>9</td>\n",
       "      <td>2</td>\n",
       "      <td>06:22</td>\n",
       "      <td>120</td>\n",
       "      <td>-727612092139916043</td>\n",
       "      <td>Monterey Park</td>\n",
       "      <td>CA</td>\n",
       "      <td>91754.0</td>\n",
       "      <td>5411</td>\n",
       "      <td>NaN</td>\n",
       "      <td>0</td>\n",
       "      <td>0</td>\n",
       "      <td>0</td>\n",
       "      <td>1</td>\n",
       "    </tr>\n",
       "    <tr>\n",
       "      <th>3</th>\n",
       "      <td>0</td>\n",
       "      <td>0</td>\n",
       "      <td>2002</td>\n",
       "      <td>9</td>\n",
       "      <td>2</td>\n",
       "      <td>17:45</td>\n",
       "      <td>129</td>\n",
       "      <td>3414527459579106770</td>\n",
       "      <td>Monterey Park</td>\n",
       "      <td>CA</td>\n",
       "      <td>91754.0</td>\n",
       "      <td>5651</td>\n",
       "      <td>NaN</td>\n",
       "      <td>0</td>\n",
       "      <td>0</td>\n",
       "      <td>0</td>\n",
       "      <td>1</td>\n",
       "    </tr>\n",
       "    <tr>\n",
       "      <th>4</th>\n",
       "      <td>0</td>\n",
       "      <td>0</td>\n",
       "      <td>2002</td>\n",
       "      <td>9</td>\n",
       "      <td>3</td>\n",
       "      <td>06:23</td>\n",
       "      <td>105</td>\n",
       "      <td>5817218446178736267</td>\n",
       "      <td>La Verne</td>\n",
       "      <td>CA</td>\n",
       "      <td>91750.0</td>\n",
       "      <td>5912</td>\n",
       "      <td>NaN</td>\n",
       "      <td>0</td>\n",
       "      <td>0</td>\n",
       "      <td>0</td>\n",
       "      <td>1</td>\n",
       "    </tr>\n",
       "    <tr>\n",
       "      <th>...</th>\n",
       "      <td>...</td>\n",
       "      <td>...</td>\n",
       "      <td>...</td>\n",
       "      <td>...</td>\n",
       "      <td>...</td>\n",
       "      <td>...</td>\n",
       "      <td>...</td>\n",
       "      <td>...</td>\n",
       "      <td>...</td>\n",
       "      <td>...</td>\n",
       "      <td>...</td>\n",
       "      <td>...</td>\n",
       "      <td>...</td>\n",
       "      <td>...</td>\n",
       "      <td>...</td>\n",
       "      <td>...</td>\n",
       "      <td>...</td>\n",
       "    </tr>\n",
       "    <tr>\n",
       "      <th>24386895</th>\n",
       "      <td>1999</td>\n",
       "      <td>1</td>\n",
       "      <td>2020</td>\n",
       "      <td>2</td>\n",
       "      <td>27</td>\n",
       "      <td>22:23</td>\n",
       "      <td>-54</td>\n",
       "      <td>-5162038175624867091</td>\n",
       "      <td>Merrimack</td>\n",
       "      <td>NH</td>\n",
       "      <td>3054.0</td>\n",
       "      <td>5541</td>\n",
       "      <td>NaN</td>\n",
       "      <td>0</td>\n",
       "      <td>1</td>\n",
       "      <td>0</td>\n",
       "      <td>0</td>\n",
       "    </tr>\n",
       "    <tr>\n",
       "      <th>24386896</th>\n",
       "      <td>1999</td>\n",
       "      <td>1</td>\n",
       "      <td>2020</td>\n",
       "      <td>2</td>\n",
       "      <td>27</td>\n",
       "      <td>22:24</td>\n",
       "      <td>54</td>\n",
       "      <td>-5162038175624867091</td>\n",
       "      <td>Merrimack</td>\n",
       "      <td>NH</td>\n",
       "      <td>3054.0</td>\n",
       "      <td>5541</td>\n",
       "      <td>NaN</td>\n",
       "      <td>0</td>\n",
       "      <td>1</td>\n",
       "      <td>0</td>\n",
       "      <td>0</td>\n",
       "    </tr>\n",
       "    <tr>\n",
       "      <th>24386897</th>\n",
       "      <td>1999</td>\n",
       "      <td>1</td>\n",
       "      <td>2020</td>\n",
       "      <td>2</td>\n",
       "      <td>28</td>\n",
       "      <td>07:43</td>\n",
       "      <td>59</td>\n",
       "      <td>2500998799892805156</td>\n",
       "      <td>Merrimack</td>\n",
       "      <td>NH</td>\n",
       "      <td>3054.0</td>\n",
       "      <td>4121</td>\n",
       "      <td>NaN</td>\n",
       "      <td>0</td>\n",
       "      <td>1</td>\n",
       "      <td>0</td>\n",
       "      <td>0</td>\n",
       "    </tr>\n",
       "    <tr>\n",
       "      <th>24386898</th>\n",
       "      <td>1999</td>\n",
       "      <td>1</td>\n",
       "      <td>2020</td>\n",
       "      <td>2</td>\n",
       "      <td>28</td>\n",
       "      <td>20:10</td>\n",
       "      <td>43</td>\n",
       "      <td>2500998799892805156</td>\n",
       "      <td>Merrimack</td>\n",
       "      <td>NH</td>\n",
       "      <td>3054.0</td>\n",
       "      <td>4121</td>\n",
       "      <td>NaN</td>\n",
       "      <td>0</td>\n",
       "      <td>1</td>\n",
       "      <td>0</td>\n",
       "      <td>0</td>\n",
       "    </tr>\n",
       "    <tr>\n",
       "      <th>24386899</th>\n",
       "      <td>1999</td>\n",
       "      <td>1</td>\n",
       "      <td>2020</td>\n",
       "      <td>2</td>\n",
       "      <td>28</td>\n",
       "      <td>23:10</td>\n",
       "      <td>45</td>\n",
       "      <td>4751695835751691036</td>\n",
       "      <td>Merrimack</td>\n",
       "      <td>NH</td>\n",
       "      <td>3054.0</td>\n",
       "      <td>5814</td>\n",
       "      <td>NaN</td>\n",
       "      <td>0</td>\n",
       "      <td>1</td>\n",
       "      <td>0</td>\n",
       "      <td>0</td>\n",
       "    </tr>\n",
       "  </tbody>\n",
       "</table>\n",
       "<p>24386900 rows × 17 columns</p>\n",
       "</div>"
      ],
      "text/plain": [
       "          User  Card  Year  Month  Day   Time  Amount        Merchant Name  \\\n",
       "0            0     0  2002      9    1  06:21     134  3527213246127876953   \n",
       "1            0     0  2002      9    1  06:42      38  -727612092139916043   \n",
       "2            0     0  2002      9    2  06:22     120  -727612092139916043   \n",
       "3            0     0  2002      9    2  17:45     129  3414527459579106770   \n",
       "4            0     0  2002      9    3  06:23     105  5817218446178736267   \n",
       "...        ...   ...   ...    ...  ...    ...     ...                  ...   \n",
       "24386895  1999     1  2020      2   27  22:23     -54 -5162038175624867091   \n",
       "24386896  1999     1  2020      2   27  22:24      54 -5162038175624867091   \n",
       "24386897  1999     1  2020      2   28  07:43      59  2500998799892805156   \n",
       "24386898  1999     1  2020      2   28  20:10      43  2500998799892805156   \n",
       "24386899  1999     1  2020      2   28  23:10      45  4751695835751691036   \n",
       "\n",
       "          Merchant City Merchant State      Zip   MCC Errors?  Is Fraud?  \\\n",
       "0              La Verne             CA  91750.0  5300     NaN          0   \n",
       "1         Monterey Park             CA  91754.0  5411     NaN          0   \n",
       "2         Monterey Park             CA  91754.0  5411     NaN          0   \n",
       "3         Monterey Park             CA  91754.0  5651     NaN          0   \n",
       "4              La Verne             CA  91750.0  5912     NaN          0   \n",
       "...                 ...            ...      ...   ...     ...        ...   \n",
       "24386895      Merrimack             NH   3054.0  5541     NaN          0   \n",
       "24386896      Merrimack             NH   3054.0  5541     NaN          0   \n",
       "24386897      Merrimack             NH   3054.0  4121     NaN          0   \n",
       "24386898      Merrimack             NH   3054.0  4121     NaN          0   \n",
       "24386899      Merrimack             NH   3054.0  5814     NaN          0   \n",
       "\n",
       "          Use Chip_Chip Transaction  Use Chip_Online Transaction  \\\n",
       "0                                 0                            0   \n",
       "1                                 0                            0   \n",
       "2                                 0                            0   \n",
       "3                                 0                            0   \n",
       "4                                 0                            0   \n",
       "...                             ...                          ...   \n",
       "24386895                          1                            0   \n",
       "24386896                          1                            0   \n",
       "24386897                          1                            0   \n",
       "24386898                          1                            0   \n",
       "24386899                          1                            0   \n",
       "\n",
       "          Use Chip_Swipe Transaction  \n",
       "0                                  1  \n",
       "1                                  1  \n",
       "2                                  1  \n",
       "3                                  1  \n",
       "4                                  1  \n",
       "...                              ...  \n",
       "24386895                           0  \n",
       "24386896                           0  \n",
       "24386897                           0  \n",
       "24386898                           0  \n",
       "24386899                           0  \n",
       "\n",
       "[24386900 rows x 17 columns]"
      ]
     },
     "execution_count": 50,
     "metadata": {},
     "output_type": "execute_result"
    }
   ],
   "source": [
    "ealtman2019_oneHotChip = pd.get_dummies(ealtman2019_df, columns =['Use Chip'])\n",
    "ealtman2019_oneHotChip"
   ]
  },
  {
   "cell_type": "code",
   "execution_count": 51,
   "id": "78133860",
   "metadata": {},
   "outputs": [
    {
     "data": {
      "text/plain": [
       "count    2.438690e+07\n",
       "mean     4.363253e+01\n",
       "std      8.202357e+01\n",
       "min     -5.000000e+02\n",
       "25%      9.000000e+00\n",
       "50%      3.000000e+01\n",
       "75%      6.500000e+01\n",
       "max      1.239000e+04\n",
       "Name: Amount, dtype: float64"
      ]
     },
     "execution_count": 51,
     "metadata": {},
     "output_type": "execute_result"
    }
   ],
   "source": [
    "ealtman2019_oneHotChip[\"Amount\"].describe()"
   ]
  },
  {
   "cell_type": "code",
   "execution_count": null,
   "id": "8324071d",
   "metadata": {},
   "outputs": [],
   "source": [
    "# count\t24386900.00\n",
    "# mean\t43.63\n",
    "# std\t82.02\n",
    "# min\t-500.00\n",
    "# 25%\t9.00\n",
    "# 50%\t30.00\n",
    "# 75%\t65.00\n",
    "# max\t12390.00\n"
   ]
  },
  {
   "cell_type": "code",
   "execution_count": 52,
   "id": "3847d2b7",
   "metadata": {},
   "outputs": [
    {
     "data": {
      "text/plain": [
       "2651232"
      ]
     },
     "execution_count": 52,
     "metadata": {},
     "output_type": "execute_result"
    }
   ],
   "source": [
    "amount = ealtman2019_df['Amount']\n",
    "count_over100 = column[amount > 100].count()\n",
    "count_over100\n"
   ]
  },
  {
   "cell_type": "code",
   "execution_count": 53,
   "id": "26dbd8c6",
   "metadata": {},
   "outputs": [
    {
     "data": {
      "text/plain": [
       "21452919"
      ]
     },
     "execution_count": 53,
     "metadata": {},
     "output_type": "execute_result"
    }
   ],
   "source": [
    "count_under100 = column[amount < 100].count()\n",
    "count_under100"
   ]
  },
  {
   "cell_type": "code",
   "execution_count": 54,
   "id": "443acfba",
   "metadata": {},
   "outputs": [
    {
     "data": {
      "text/plain": [
       "15905733"
      ]
     },
     "execution_count": 54,
     "metadata": {},
     "output_type": "execute_result"
    }
   ],
   "source": [
    "count_under50 = column[amount < 50].count()\n",
    "count_under50"
   ]
  },
  {
   "cell_type": "code",
   "execution_count": 55,
   "id": "79055a1a",
   "metadata": {},
   "outputs": [
    {
     "data": {
      "text/plain": [
       "1244559"
      ]
     },
     "execution_count": 55,
     "metadata": {},
     "output_type": "execute_result"
    }
   ],
   "source": [
    "count_under0 = column[amount < 0].count()\n",
    "count_under0"
   ]
  },
  {
   "cell_type": "code",
   "execution_count": 86,
   "id": "e5287bba",
   "metadata": {},
   "outputs": [
    {
     "data": {
      "text/plain": [
       "1244559"
      ]
     },
     "execution_count": 86,
     "metadata": {},
     "output_type": "execute_result"
    }
   ],
   "source": [
    "ealtman2019_under0 = ealtman2019_oneHotChip.loc[ealtman2019_oneHotChip['Amount'] < 0]\n",
    "ealtman2019_under0['Amount'].count()"
   ]
  },
  {
   "cell_type": "code",
   "execution_count": 83,
   "id": "4611c422",
   "metadata": {},
   "outputs": [
    {
     "data": {
      "text/plain": [
       "604"
      ]
     },
     "execution_count": 83,
     "metadata": {},
     "output_type": "execute_result"
    }
   ],
   "source": [
    "ealtman2019_0 = ealtman2019_oneHotChip.loc[ealtman2019_oneHotChip['Amount'] == 0]\n",
    "ealtman2019_0['Amount'].count()\n",
    "ealtman2019_0_fraud = ealtman2019_0.loc[ealtman2019_0['Is Fraud?'] == 1]\n",
    "ealtman2019_0_fraud['Amount'].count()"
   ]
  },
  {
   "cell_type": "code",
   "execution_count": 61,
   "id": "4146fbe7",
   "metadata": {},
   "outputs": [
    {
     "data": {
      "text/html": [
       "<div>\n",
       "<style scoped>\n",
       "    .dataframe tbody tr th:only-of-type {\n",
       "        vertical-align: middle;\n",
       "    }\n",
       "\n",
       "    .dataframe tbody tr th {\n",
       "        vertical-align: top;\n",
       "    }\n",
       "\n",
       "    .dataframe thead th {\n",
       "        text-align: right;\n",
       "    }\n",
       "</style>\n",
       "<table border=\"1\" class=\"dataframe\">\n",
       "  <thead>\n",
       "    <tr style=\"text-align: right;\">\n",
       "      <th></th>\n",
       "      <th>User</th>\n",
       "      <th>Card</th>\n",
       "      <th>Year</th>\n",
       "      <th>Month</th>\n",
       "      <th>Day</th>\n",
       "      <th>Time</th>\n",
       "      <th>Amount</th>\n",
       "      <th>Merchant Name</th>\n",
       "      <th>Merchant City</th>\n",
       "      <th>Merchant State</th>\n",
       "      <th>Zip</th>\n",
       "      <th>MCC</th>\n",
       "      <th>Errors?</th>\n",
       "      <th>Is Fraud?</th>\n",
       "      <th>Use Chip_Chip Transaction</th>\n",
       "      <th>Use Chip_Online Transaction</th>\n",
       "      <th>Use Chip_Swipe Transaction</th>\n",
       "    </tr>\n",
       "  </thead>\n",
       "  <tbody>\n",
       "    <tr>\n",
       "      <th>4112</th>\n",
       "      <td>0</td>\n",
       "      <td>0</td>\n",
       "      <td>2015</td>\n",
       "      <td>11</td>\n",
       "      <td>20</td>\n",
       "      <td>07:42</td>\n",
       "      <td>-473</td>\n",
       "      <td>-8566951830324093739</td>\n",
       "      <td>ONLINE</td>\n",
       "      <td>NaN</td>\n",
       "      <td>NaN</td>\n",
       "      <td>3640</td>\n",
       "      <td>NaN</td>\n",
       "      <td>1</td>\n",
       "      <td>0</td>\n",
       "      <td>1</td>\n",
       "      <td>0</td>\n",
       "    </tr>\n",
       "    <tr>\n",
       "      <th>13699</th>\n",
       "      <td>0</td>\n",
       "      <td>3</td>\n",
       "      <td>2008</td>\n",
       "      <td>10</td>\n",
       "      <td>20</td>\n",
       "      <td>09:23</td>\n",
       "      <td>-298</td>\n",
       "      <td>1715299929786123066</td>\n",
       "      <td>Corona</td>\n",
       "      <td>CA</td>\n",
       "      <td>92881.0</td>\n",
       "      <td>3722</td>\n",
       "      <td>NaN</td>\n",
       "      <td>1</td>\n",
       "      <td>0</td>\n",
       "      <td>0</td>\n",
       "      <td>1</td>\n",
       "    </tr>\n",
       "    <tr>\n",
       "      <th>57552</th>\n",
       "      <td>2</td>\n",
       "      <td>1</td>\n",
       "      <td>2018</td>\n",
       "      <td>1</td>\n",
       "      <td>10</td>\n",
       "      <td>17:28</td>\n",
       "      <td>-85</td>\n",
       "      <td>-5162038175624867091</td>\n",
       "      <td>Rome</td>\n",
       "      <td>Italy</td>\n",
       "      <td>NaN</td>\n",
       "      <td>5541</td>\n",
       "      <td>NaN</td>\n",
       "      <td>1</td>\n",
       "      <td>0</td>\n",
       "      <td>0</td>\n",
       "      <td>1</td>\n",
       "    </tr>\n",
       "    <tr>\n",
       "      <th>57728</th>\n",
       "      <td>2</td>\n",
       "      <td>1</td>\n",
       "      <td>2018</td>\n",
       "      <td>4</td>\n",
       "      <td>9</td>\n",
       "      <td>18:39</td>\n",
       "      <td>-95</td>\n",
       "      <td>1799189980464955940</td>\n",
       "      <td>Rome</td>\n",
       "      <td>Italy</td>\n",
       "      <td>NaN</td>\n",
       "      <td>5499</td>\n",
       "      <td>NaN</td>\n",
       "      <td>1</td>\n",
       "      <td>0</td>\n",
       "      <td>0</td>\n",
       "      <td>1</td>\n",
       "    </tr>\n",
       "    <tr>\n",
       "      <th>107988</th>\n",
       "      <td>5</td>\n",
       "      <td>0</td>\n",
       "      <td>2016</td>\n",
       "      <td>4</td>\n",
       "      <td>5</td>\n",
       "      <td>15:16</td>\n",
       "      <td>-471</td>\n",
       "      <td>483490033258680568</td>\n",
       "      <td>ONLINE</td>\n",
       "      <td>NaN</td>\n",
       "      <td>NaN</td>\n",
       "      <td>3504</td>\n",
       "      <td>NaN</td>\n",
       "      <td>1</td>\n",
       "      <td>0</td>\n",
       "      <td>1</td>\n",
       "      <td>0</td>\n",
       "    </tr>\n",
       "    <tr>\n",
       "      <th>...</th>\n",
       "      <td>...</td>\n",
       "      <td>...</td>\n",
       "      <td>...</td>\n",
       "      <td>...</td>\n",
       "      <td>...</td>\n",
       "      <td>...</td>\n",
       "      <td>...</td>\n",
       "      <td>...</td>\n",
       "      <td>...</td>\n",
       "      <td>...</td>\n",
       "      <td>...</td>\n",
       "      <td>...</td>\n",
       "      <td>...</td>\n",
       "      <td>...</td>\n",
       "      <td>...</td>\n",
       "      <td>...</td>\n",
       "      <td>...</td>\n",
       "    </tr>\n",
       "    <tr>\n",
       "      <th>24353093</th>\n",
       "      <td>1996</td>\n",
       "      <td>3</td>\n",
       "      <td>2014</td>\n",
       "      <td>2</td>\n",
       "      <td>11</td>\n",
       "      <td>05:05</td>\n",
       "      <td>-398</td>\n",
       "      <td>-6796080605569913348</td>\n",
       "      <td>ONLINE</td>\n",
       "      <td>NaN</td>\n",
       "      <td>NaN</td>\n",
       "      <td>4722</td>\n",
       "      <td>NaN</td>\n",
       "      <td>1</td>\n",
       "      <td>0</td>\n",
       "      <td>1</td>\n",
       "      <td>0</td>\n",
       "    </tr>\n",
       "    <tr>\n",
       "      <th>24353098</th>\n",
       "      <td>1996</td>\n",
       "      <td>3</td>\n",
       "      <td>2014</td>\n",
       "      <td>2</td>\n",
       "      <td>14</td>\n",
       "      <td>09:19</td>\n",
       "      <td>-310</td>\n",
       "      <td>7501849281341469857</td>\n",
       "      <td>ONLINE</td>\n",
       "      <td>NaN</td>\n",
       "      <td>NaN</td>\n",
       "      <td>4722</td>\n",
       "      <td>NaN</td>\n",
       "      <td>1</td>\n",
       "      <td>0</td>\n",
       "      <td>1</td>\n",
       "      <td>0</td>\n",
       "    </tr>\n",
       "    <tr>\n",
       "      <th>24354288</th>\n",
       "      <td>1996</td>\n",
       "      <td>3</td>\n",
       "      <td>2018</td>\n",
       "      <td>10</td>\n",
       "      <td>8</td>\n",
       "      <td>13:01</td>\n",
       "      <td>-351</td>\n",
       "      <td>-7807051024009846392</td>\n",
       "      <td>Rome</td>\n",
       "      <td>Italy</td>\n",
       "      <td>NaN</td>\n",
       "      <td>3684</td>\n",
       "      <td>Bad PIN</td>\n",
       "      <td>1</td>\n",
       "      <td>1</td>\n",
       "      <td>0</td>\n",
       "      <td>0</td>\n",
       "    </tr>\n",
       "    <tr>\n",
       "      <th>24354537</th>\n",
       "      <td>1996</td>\n",
       "      <td>3</td>\n",
       "      <td>2019</td>\n",
       "      <td>7</td>\n",
       "      <td>1</td>\n",
       "      <td>11:13</td>\n",
       "      <td>-362</td>\n",
       "      <td>190253443608377572</td>\n",
       "      <td>Rome</td>\n",
       "      <td>Italy</td>\n",
       "      <td>NaN</td>\n",
       "      <td>3359</td>\n",
       "      <td>NaN</td>\n",
       "      <td>1</td>\n",
       "      <td>1</td>\n",
       "      <td>0</td>\n",
       "      <td>0</td>\n",
       "    </tr>\n",
       "    <tr>\n",
       "      <th>24372750</th>\n",
       "      <td>1997</td>\n",
       "      <td>1</td>\n",
       "      <td>2018</td>\n",
       "      <td>6</td>\n",
       "      <td>27</td>\n",
       "      <td>11:41</td>\n",
       "      <td>-82</td>\n",
       "      <td>-5162038175624867091</td>\n",
       "      <td>Rome</td>\n",
       "      <td>Italy</td>\n",
       "      <td>NaN</td>\n",
       "      <td>5541</td>\n",
       "      <td>NaN</td>\n",
       "      <td>1</td>\n",
       "      <td>1</td>\n",
       "      <td>0</td>\n",
       "      <td>0</td>\n",
       "    </tr>\n",
       "  </tbody>\n",
       "</table>\n",
       "<p>1125 rows × 17 columns</p>\n",
       "</div>"
      ],
      "text/plain": [
       "          User  Card  Year  Month  Day   Time  Amount        Merchant Name  \\\n",
       "4112         0     0  2015     11   20  07:42    -473 -8566951830324093739   \n",
       "13699        0     3  2008     10   20  09:23    -298  1715299929786123066   \n",
       "57552        2     1  2018      1   10  17:28     -85 -5162038175624867091   \n",
       "57728        2     1  2018      4    9  18:39     -95  1799189980464955940   \n",
       "107988       5     0  2016      4    5  15:16    -471   483490033258680568   \n",
       "...        ...   ...   ...    ...  ...    ...     ...                  ...   \n",
       "24353093  1996     3  2014      2   11  05:05    -398 -6796080605569913348   \n",
       "24353098  1996     3  2014      2   14  09:19    -310  7501849281341469857   \n",
       "24354288  1996     3  2018     10    8  13:01    -351 -7807051024009846392   \n",
       "24354537  1996     3  2019      7    1  11:13    -362   190253443608377572   \n",
       "24372750  1997     1  2018      6   27  11:41     -82 -5162038175624867091   \n",
       "\n",
       "         Merchant City Merchant State      Zip   MCC  Errors?  Is Fraud?  \\\n",
       "4112            ONLINE            NaN      NaN  3640      NaN          1   \n",
       "13699           Corona             CA  92881.0  3722      NaN          1   \n",
       "57552             Rome          Italy      NaN  5541      NaN          1   \n",
       "57728             Rome          Italy      NaN  5499      NaN          1   \n",
       "107988          ONLINE            NaN      NaN  3504      NaN          1   \n",
       "...                ...            ...      ...   ...      ...        ...   \n",
       "24353093        ONLINE            NaN      NaN  4722      NaN          1   \n",
       "24353098        ONLINE            NaN      NaN  4722      NaN          1   \n",
       "24354288          Rome          Italy      NaN  3684  Bad PIN          1   \n",
       "24354537          Rome          Italy      NaN  3359      NaN          1   \n",
       "24372750          Rome          Italy      NaN  5541      NaN          1   \n",
       "\n",
       "          Use Chip_Chip Transaction  Use Chip_Online Transaction  \\\n",
       "4112                              0                            1   \n",
       "13699                             0                            0   \n",
       "57552                             0                            0   \n",
       "57728                             0                            0   \n",
       "107988                            0                            1   \n",
       "...                             ...                          ...   \n",
       "24353093                          0                            1   \n",
       "24353098                          0                            1   \n",
       "24354288                          1                            0   \n",
       "24354537                          1                            0   \n",
       "24372750                          1                            0   \n",
       "\n",
       "          Use Chip_Swipe Transaction  \n",
       "4112                               0  \n",
       "13699                              1  \n",
       "57552                              1  \n",
       "57728                              1  \n",
       "107988                             0  \n",
       "...                              ...  \n",
       "24353093                           0  \n",
       "24353098                           0  \n",
       "24354288                           0  \n",
       "24354537                           0  \n",
       "24372750                           0  \n",
       "\n",
       "[1125 rows x 17 columns]"
      ]
     },
     "execution_count": 61,
     "metadata": {},
     "output_type": "execute_result"
    }
   ],
   "source": [
    "# ealtman2019_under0_fraud = ealtman2019_under0.loc[ealtman2019_under0['Is Fraud?'] == 1]\n",
    "# ealtman2019_under0 = ealtman2019_oneHotChip.loc[ealtman2019_oneHotChip['Amount'] < 0]\n",
    "# ealtman2019_under0_fraud"
   ]
  },
  {
   "cell_type": "code",
   "execution_count": 64,
   "id": "58131b69",
   "metadata": {},
   "outputs": [
    {
     "data": {
      "text/plain": [
       "count    1125.00000\n",
       "mean     -281.56000\n",
       "std       121.55569\n",
       "min      -500.00000\n",
       "25%      -384.00000\n",
       "50%      -276.00000\n",
       "75%      -183.00000\n",
       "max       -50.00000\n",
       "Name: Amount, dtype: float64"
      ]
     },
     "execution_count": 64,
     "metadata": {},
     "output_type": "execute_result"
    }
   ],
   "source": [
    "ealtman2019_under0_fraud[\"Amount\"].describe()"
   ]
  },
  {
   "cell_type": "code",
   "execution_count": 65,
   "id": "891de851",
   "metadata": {},
   "outputs": [],
   "source": [
    "ealtman2019_above0 = ealtman2019_oneHotChip.loc[ealtman2019_oneHotChip['Amount'] > 0]"
   ]
  },
  {
   "cell_type": "code",
   "execution_count": 66,
   "id": "3d728e77",
   "metadata": {},
   "outputs": [
    {
     "data": {
      "text/plain": [
       "count    2.296473e+07\n",
       "mean     5.186581e+01\n",
       "std      7.432012e+01\n",
       "min      1.000000e+00\n",
       "25%      1.200000e+01\n",
       "50%      3.400000e+01\n",
       "75%      6.800000e+01\n",
       "max      1.239000e+04\n",
       "Name: Amount, dtype: float64"
      ]
     },
     "execution_count": 66,
     "metadata": {},
     "output_type": "execute_result"
    }
   ],
   "source": [
    "ealtman2019_above0[\"Amount\"].describe()"
   ]
  },
  {
   "cell_type": "code",
   "execution_count": null,
   "id": "7d0a9dee",
   "metadata": {},
   "outputs": [],
   "source": [
    "# count\t22964730.00\n",
    "# mean\t51.87\n",
    "# std\t74.32\n",
    "# min\t1.00\n",
    "# 25%\t12.00\n",
    "# 50%\t34.00\n",
    "# 75%\t68.00\n",
    "# max\t12390.00\n"
   ]
  },
  {
   "cell_type": "code",
   "execution_count": 75,
   "id": "3644b423",
   "metadata": {},
   "outputs": [
    {
     "data": {
      "text/plain": [
       "5722355"
      ]
     },
     "execution_count": 75,
     "metadata": {},
     "output_type": "execute_result"
    }
   ],
   "source": [
    "ealtman2019_75percent = ealtman2019_oneHotChip.loc[ealtman2019_oneHotChip['Amount'] > 68]\n",
    "ealtman2019_75percent['Amount'].describe()\n",
    "ealtman2019_75percent['Amount'].count()"
   ]
  },
  {
   "cell_type": "code",
   "execution_count": 70,
   "id": "91f7aa37",
   "metadata": {},
   "outputs": [
    {
     "data": {
      "text/plain": [
       "count    16825.000000\n",
       "mean      1295.533314\n",
       "std        372.673355\n",
       "min       1001.000000\n",
       "25%       1082.000000\n",
       "50%       1196.000000\n",
       "75%       1385.000000\n",
       "max      12390.000000\n",
       "Name: Amount, dtype: float64"
      ]
     },
     "execution_count": 70,
     "metadata": {},
     "output_type": "execute_result"
    }
   ],
   "source": [
    "ealtman2019_thousand = ealtman2019_oneHotChip.loc[ealtman2019_oneHotChip['Amount'] > 1000]\n",
    "ealtman2019_thousand['Amount'].describe()"
   ]
  },
  {
   "cell_type": "code",
   "execution_count": null,
   "id": "f7f73c97",
   "metadata": {},
   "outputs": [],
   "source": []
  },
  {
   "cell_type": "code",
   "execution_count": 74,
   "id": "f0b91c50",
   "metadata": {},
   "outputs": [
    {
     "data": {
      "text/plain": [
       "count    79139.000000\n",
       "mean       824.606831\n",
       "std        323.479680\n",
       "min        501.000000\n",
       "25%        600.000000\n",
       "50%        740.000000\n",
       "75%        954.000000\n",
       "max      12390.000000\n",
       "Name: Amount, dtype: float64"
      ]
     },
     "execution_count": 74,
     "metadata": {},
     "output_type": "execute_result"
    }
   ],
   "source": [
    "ealtman2019_500 = ealtman2019_oneHotChip.loc[ealtman2019_oneHotChip['Amount'] > 500]\n",
    "ealtman2019_500['Amount'].describe()"
   ]
  },
  {
   "cell_type": "code",
   "execution_count": 76,
   "id": "b170db35",
   "metadata": {},
   "outputs": [
    {
     "data": {
      "text/plain": [
       "count    2.651232e+06\n",
       "mean     1.869089e+02\n",
       "std      1.458164e+02\n",
       "min      1.010000e+02\n",
       "25%      1.200000e+02\n",
       "50%      1.410000e+02\n",
       "75%      1.910000e+02\n",
       "max      1.239000e+04\n",
       "Name: Amount, dtype: float64"
      ]
     },
     "execution_count": 76,
     "metadata": {},
     "output_type": "execute_result"
    }
   ],
   "source": [
    "ealtman2019_100 = ealtman2019_oneHotChip.loc[ealtman2019_oneHotChip['Amount'] > 100]\n",
    "ealtman2019_100['Amount'].describe()"
   ]
  },
  {
   "cell_type": "code",
   "execution_count": null,
   "id": "a19d7e5d",
   "metadata": {},
   "outputs": [],
   "source": [
    "# count\t2,651,232.00\n",
    "# mean\t186.91\n",
    "# std\t145.82\n",
    "# min\t101.00\n",
    "# 25%\t120.00\n",
    "# 50%\t141.00\n",
    "# 75%\t191.00\n",
    "# max\t12390.00"
   ]
  },
  {
   "cell_type": "code",
   "execution_count": 79,
   "id": "63907f98",
   "metadata": {},
   "outputs": [
    {
     "data": {
      "text/plain": [
       "count    268565.000000\n",
       "mean        514.205507\n",
       "std         270.958304\n",
       "min         301.000000\n",
       "25%         350.000000\n",
       "50%         421.000000\n",
       "75%         555.000000\n",
       "max       12390.000000\n",
       "Name: Amount, dtype: float64"
      ]
     },
     "execution_count": 79,
     "metadata": {},
     "output_type": "execute_result"
    }
   ],
   "source": [
    "ealtman2019_300 = ealtman2019_oneHotChip.loc[ealtman2019_oneHotChip['Amount'] > 300]\n",
    "ealtman2019_300['Amount'].describe()"
   ]
  },
  {
   "cell_type": "code",
   "execution_count": 84,
   "id": "b53307d0",
   "metadata": {},
   "outputs": [
    {
     "data": {
      "text/plain": [
       "count    591039.000000\n",
       "mean        364.446751\n",
       "std         229.052311\n",
       "min         201.000000\n",
       "25%         231.000000\n",
       "50%         285.000000\n",
       "75%         405.000000\n",
       "max       12390.000000\n",
       "Name: Amount, dtype: float64"
      ]
     },
     "execution_count": 84,
     "metadata": {},
     "output_type": "execute_result"
    }
   ],
   "source": [
    "ealtman2019_200 = ealtman2019_oneHotChip.loc[ealtman2019_oneHotChip['Amount'] > 200]\n",
    "ealtman2019_200['Amount'].describe()"
   ]
  },
  {
   "cell_type": "code",
   "execution_count": 85,
   "id": "a53a9499",
   "metadata": {},
   "outputs": [
    {
     "data": {
      "text/plain": [
       "count    8.311993e+06\n",
       "mean     1.090011e+02\n",
       "std      9.885612e+01\n",
       "min      5.100000e+01\n",
       "25%      6.400000e+01\n",
       "50%      8.300000e+01\n",
       "75%      1.180000e+02\n",
       "max      1.239000e+04\n",
       "Name: Amount, dtype: float64"
      ]
     },
     "execution_count": 85,
     "metadata": {},
     "output_type": "execute_result"
    }
   ],
   "source": [
    "ealtman2019_50 = ealtman2019_oneHotChip.loc[ealtman2019_oneHotChip['Amount'] > 50]\n",
    "ealtman2019_50['Amount'].describe()"
   ]
  },
  {
   "cell_type": "code",
   "execution_count": null,
   "id": "f5f67c67",
   "metadata": {},
   "outputs": [],
   "source": [
    "# count\t8311993.00\n",
    "# mean\t109.00\n",
    "# std\t98.86\n",
    "# min\t51.00\n",
    "# 25%\t64.00\n",
    "# 50%\t83.00\n",
    "# 75%\t118.00\n",
    "# max\t12390.00\n"
   ]
  },
  {
   "cell_type": "code",
   "execution_count": 87,
   "id": "9336f256",
   "metadata": {},
   "outputs": [
    {
     "data": {
      "text/plain": [
       "count    5.014275e+06\n",
       "mean     1.400993e+02\n",
       "std      1.171743e+02\n",
       "min      7.600000e+01\n",
       "25%      8.700000e+01\n",
       "50%      1.040000e+02\n",
       "75%      1.450000e+02\n",
       "max      1.239000e+04\n",
       "Name: Amount, dtype: float64"
      ]
     },
     "execution_count": 87,
     "metadata": {},
     "output_type": "execute_result"
    }
   ],
   "source": [
    "ealtman2019_75 = ealtman2019_oneHotChip.loc[ealtman2019_oneHotChip['Amount'] > 75]\n",
    "ealtman2019_75['Amount'].describe()"
   ]
  },
  {
   "cell_type": "code",
   "execution_count": null,
   "id": "11e5b90a",
   "metadata": {},
   "outputs": [],
   "source": []
  },
  {
   "cell_type": "code",
   "execution_count": 90,
   "id": "88c91691",
   "metadata": {},
   "outputs": [
    {
     "data": {
      "text/plain": [
       "count    1.241112e+06\n",
       "mean     2.618608e+02\n",
       "std      1.862156e+02\n",
       "min      1.460000e+02\n",
       "25%      1.640000e+02\n",
       "50%      1.970000e+02\n",
       "75%      2.780000e+02\n",
       "max      1.239000e+04\n",
       "Name: Amount, dtype: float64"
      ]
     },
     "execution_count": 90,
     "metadata": {},
     "output_type": "execute_result"
    }
   ],
   "source": [
    "ealtman2019_145 = ealtman2019_oneHotChip.loc[ealtman2019_oneHotChip['Amount'] > 145]\n",
    "ealtman2019_145['Amount'].describe()"
   ]
  },
  {
   "cell_type": "code",
   "execution_count": null,
   "id": "8e762262",
   "metadata": {},
   "outputs": [],
   "source": []
  }
 ],
 "metadata": {
  "kernelspec": {
   "display_name": "Python 3 (ipykernel)",
   "language": "python",
   "name": "python3"
  },
  "language_info": {
   "codemirror_mode": {
    "name": "ipython",
    "version": 3
   },
   "file_extension": ".py",
   "mimetype": "text/x-python",
   "name": "python",
   "nbconvert_exporter": "python",
   "pygments_lexer": "ipython3",
   "version": "3.9.12"
  }
 },
 "nbformat": 4,
 "nbformat_minor": 5
}
